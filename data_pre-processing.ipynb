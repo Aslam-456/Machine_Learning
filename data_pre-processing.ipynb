{
 "cells": [
  {
   "cell_type": "code",
   "execution_count": 373,
   "id": "initial_id",
   "metadata": {
    "collapsed": true,
    "ExecuteTime": {
     "end_time": "2024-03-18T17:55:58.598191200Z",
     "start_time": "2024-03-18T17:55:57.814256900Z"
    }
   },
   "outputs": [],
   "source": [
    "import numpy as np\n",
    "import pandas as pd\n",
    "test_data = pd.read_csv('dataset/adult.test',skiprows=1) #the first line in the dataset is empty space, so I skip it \n",
    "train_data = pd.read_csv('dataset/adult.data',)\n",
    "index_data = pd.read_csv('dataset/Index')"
   ]
  },
  {
   "cell_type": "code",
   "execution_count": 374,
   "outputs": [
    {
     "data": {
      "text/plain": "       39          State-gov   77516    Bachelors   13        Never-married  \\\n0      50   Self-emp-not-inc   83311    Bachelors   13   Married-civ-spouse   \n1      38            Private  215646      HS-grad    9             Divorced   \n2      53            Private  234721         11th    7   Married-civ-spouse   \n3      28            Private  338409    Bachelors   13   Married-civ-spouse   \n4      37            Private  284582      Masters   14   Married-civ-spouse   \n...    ..                ...     ...          ...  ...                  ...   \n32555  27            Private  257302   Assoc-acdm   12   Married-civ-spouse   \n32556  40            Private  154374      HS-grad    9   Married-civ-spouse   \n32557  58            Private  151910      HS-grad    9              Widowed   \n32558  22            Private  201490      HS-grad    9        Never-married   \n32559  52       Self-emp-inc  287927      HS-grad    9   Married-civ-spouse   \n\n             Adm-clerical   Not-in-family   White     Male   2174   0   40  \\\n0         Exec-managerial         Husband   White     Male      0   0   13   \n1       Handlers-cleaners   Not-in-family   White     Male      0   0   40   \n2       Handlers-cleaners         Husband   Black     Male      0   0   40   \n3          Prof-specialty            Wife   Black   Female      0   0   40   \n4         Exec-managerial            Wife   White   Female      0   0   40   \n...                   ...             ...     ...      ...    ...  ..  ...   \n32555        Tech-support            Wife   White   Female      0   0   38   \n32556   Machine-op-inspct         Husband   White     Male      0   0   40   \n32557        Adm-clerical       Unmarried   White   Female      0   0   40   \n32558        Adm-clerical       Own-child   White     Male      0   0   20   \n32559     Exec-managerial            Wife   White   Female  15024   0   40   \n\n        United-States   <=50K  \n0       United-States   <=50K  \n1       United-States   <=50K  \n2       United-States   <=50K  \n3                Cuba   <=50K  \n4       United-States   <=50K  \n...               ...     ...  \n32555   United-States   <=50K  \n32556   United-States    >50K  \n32557   United-States   <=50K  \n32558   United-States   <=50K  \n32559   United-States    >50K  \n\n[32560 rows x 15 columns]",
      "text/html": "<div>\n<style scoped>\n    .dataframe tbody tr th:only-of-type {\n        vertical-align: middle;\n    }\n\n    .dataframe tbody tr th {\n        vertical-align: top;\n    }\n\n    .dataframe thead th {\n        text-align: right;\n    }\n</style>\n<table border=\"1\" class=\"dataframe\">\n  <thead>\n    <tr style=\"text-align: right;\">\n      <th></th>\n      <th>39</th>\n      <th>State-gov</th>\n      <th>77516</th>\n      <th>Bachelors</th>\n      <th>13</th>\n      <th>Never-married</th>\n      <th>Adm-clerical</th>\n      <th>Not-in-family</th>\n      <th>White</th>\n      <th>Male</th>\n      <th>2174</th>\n      <th>0</th>\n      <th>40</th>\n      <th>United-States</th>\n      <th>&lt;=50K</th>\n    </tr>\n  </thead>\n  <tbody>\n    <tr>\n      <th>0</th>\n      <td>50</td>\n      <td>Self-emp-not-inc</td>\n      <td>83311</td>\n      <td>Bachelors</td>\n      <td>13</td>\n      <td>Married-civ-spouse</td>\n      <td>Exec-managerial</td>\n      <td>Husband</td>\n      <td>White</td>\n      <td>Male</td>\n      <td>0</td>\n      <td>0</td>\n      <td>13</td>\n      <td>United-States</td>\n      <td>&lt;=50K</td>\n    </tr>\n    <tr>\n      <th>1</th>\n      <td>38</td>\n      <td>Private</td>\n      <td>215646</td>\n      <td>HS-grad</td>\n      <td>9</td>\n      <td>Divorced</td>\n      <td>Handlers-cleaners</td>\n      <td>Not-in-family</td>\n      <td>White</td>\n      <td>Male</td>\n      <td>0</td>\n      <td>0</td>\n      <td>40</td>\n      <td>United-States</td>\n      <td>&lt;=50K</td>\n    </tr>\n    <tr>\n      <th>2</th>\n      <td>53</td>\n      <td>Private</td>\n      <td>234721</td>\n      <td>11th</td>\n      <td>7</td>\n      <td>Married-civ-spouse</td>\n      <td>Handlers-cleaners</td>\n      <td>Husband</td>\n      <td>Black</td>\n      <td>Male</td>\n      <td>0</td>\n      <td>0</td>\n      <td>40</td>\n      <td>United-States</td>\n      <td>&lt;=50K</td>\n    </tr>\n    <tr>\n      <th>3</th>\n      <td>28</td>\n      <td>Private</td>\n      <td>338409</td>\n      <td>Bachelors</td>\n      <td>13</td>\n      <td>Married-civ-spouse</td>\n      <td>Prof-specialty</td>\n      <td>Wife</td>\n      <td>Black</td>\n      <td>Female</td>\n      <td>0</td>\n      <td>0</td>\n      <td>40</td>\n      <td>Cuba</td>\n      <td>&lt;=50K</td>\n    </tr>\n    <tr>\n      <th>4</th>\n      <td>37</td>\n      <td>Private</td>\n      <td>284582</td>\n      <td>Masters</td>\n      <td>14</td>\n      <td>Married-civ-spouse</td>\n      <td>Exec-managerial</td>\n      <td>Wife</td>\n      <td>White</td>\n      <td>Female</td>\n      <td>0</td>\n      <td>0</td>\n      <td>40</td>\n      <td>United-States</td>\n      <td>&lt;=50K</td>\n    </tr>\n    <tr>\n      <th>...</th>\n      <td>...</td>\n      <td>...</td>\n      <td>...</td>\n      <td>...</td>\n      <td>...</td>\n      <td>...</td>\n      <td>...</td>\n      <td>...</td>\n      <td>...</td>\n      <td>...</td>\n      <td>...</td>\n      <td>...</td>\n      <td>...</td>\n      <td>...</td>\n      <td>...</td>\n    </tr>\n    <tr>\n      <th>32555</th>\n      <td>27</td>\n      <td>Private</td>\n      <td>257302</td>\n      <td>Assoc-acdm</td>\n      <td>12</td>\n      <td>Married-civ-spouse</td>\n      <td>Tech-support</td>\n      <td>Wife</td>\n      <td>White</td>\n      <td>Female</td>\n      <td>0</td>\n      <td>0</td>\n      <td>38</td>\n      <td>United-States</td>\n      <td>&lt;=50K</td>\n    </tr>\n    <tr>\n      <th>32556</th>\n      <td>40</td>\n      <td>Private</td>\n      <td>154374</td>\n      <td>HS-grad</td>\n      <td>9</td>\n      <td>Married-civ-spouse</td>\n      <td>Machine-op-inspct</td>\n      <td>Husband</td>\n      <td>White</td>\n      <td>Male</td>\n      <td>0</td>\n      <td>0</td>\n      <td>40</td>\n      <td>United-States</td>\n      <td>&gt;50K</td>\n    </tr>\n    <tr>\n      <th>32557</th>\n      <td>58</td>\n      <td>Private</td>\n      <td>151910</td>\n      <td>HS-grad</td>\n      <td>9</td>\n      <td>Widowed</td>\n      <td>Adm-clerical</td>\n      <td>Unmarried</td>\n      <td>White</td>\n      <td>Female</td>\n      <td>0</td>\n      <td>0</td>\n      <td>40</td>\n      <td>United-States</td>\n      <td>&lt;=50K</td>\n    </tr>\n    <tr>\n      <th>32558</th>\n      <td>22</td>\n      <td>Private</td>\n      <td>201490</td>\n      <td>HS-grad</td>\n      <td>9</td>\n      <td>Never-married</td>\n      <td>Adm-clerical</td>\n      <td>Own-child</td>\n      <td>White</td>\n      <td>Male</td>\n      <td>0</td>\n      <td>0</td>\n      <td>20</td>\n      <td>United-States</td>\n      <td>&lt;=50K</td>\n    </tr>\n    <tr>\n      <th>32559</th>\n      <td>52</td>\n      <td>Self-emp-inc</td>\n      <td>287927</td>\n      <td>HS-grad</td>\n      <td>9</td>\n      <td>Married-civ-spouse</td>\n      <td>Exec-managerial</td>\n      <td>Wife</td>\n      <td>White</td>\n      <td>Female</td>\n      <td>15024</td>\n      <td>0</td>\n      <td>40</td>\n      <td>United-States</td>\n      <td>&gt;50K</td>\n    </tr>\n  </tbody>\n</table>\n<p>32560 rows × 15 columns</p>\n</div>"
     },
     "execution_count": 374,
     "metadata": {},
     "output_type": "execute_result"
    }
   ],
   "source": [
    "train_data"
   ],
   "metadata": {
    "collapsed": false,
    "ExecuteTime": {
     "end_time": "2024-03-18T17:55:58.598191200Z",
     "start_time": "2024-03-18T17:55:57.973821600Z"
    }
   },
   "id": "902addcb24ee5686"
  },
  {
   "cell_type": "code",
   "execution_count": 375,
   "outputs": [
    {
     "data": {
      "text/plain": "       25        Private   226802           11th   7        Never-married  \\\n0      38        Private    89814        HS-grad   9   Married-civ-spouse   \n1      28      Local-gov   336951     Assoc-acdm  12   Married-civ-spouse   \n2      44        Private   160323   Some-college  10   Married-civ-spouse   \n3      18              ?   103497   Some-college  10        Never-married   \n4      34        Private   198693           10th   6        Never-married   \n...    ..            ...      ...            ...  ..                  ...   \n16275  39        Private   215419      Bachelors  13             Divorced   \n16276  64              ?   321403        HS-grad   9              Widowed   \n16277  38        Private   374983      Bachelors  13   Married-civ-spouse   \n16278  44        Private    83891      Bachelors  13             Divorced   \n16279  35   Self-emp-inc   182148      Bachelors  13   Married-civ-spouse   \n\n        Machine-op-inspct        Own-child                Black     Male  \\\n0         Farming-fishing          Husband                White     Male   \n1         Protective-serv          Husband                White     Male   \n2       Machine-op-inspct          Husband                Black     Male   \n3                       ?        Own-child                White   Female   \n4           Other-service    Not-in-family                White     Male   \n...                   ...              ...                  ...      ...   \n16275      Prof-specialty    Not-in-family                White   Female   \n16276                   ?   Other-relative                Black     Male   \n16277      Prof-specialty          Husband                White     Male   \n16278        Adm-clerical        Own-child   Asian-Pac-Islander     Male   \n16279     Exec-managerial          Husband                White     Male   \n\n          0   0.1   40   United-States   <=50K.  \n0         0     0   50   United-States   <=50K.  \n1         0     0   40   United-States    >50K.  \n2      7688     0   40   United-States    >50K.  \n3         0     0   30   United-States   <=50K.  \n4         0     0   30   United-States   <=50K.  \n...     ...   ...  ...             ...      ...  \n16275     0     0   36   United-States   <=50K.  \n16276     0     0   40   United-States   <=50K.  \n16277     0     0   50   United-States   <=50K.  \n16278  5455     0   40   United-States   <=50K.  \n16279     0     0   60   United-States    >50K.  \n\n[16280 rows x 15 columns]",
      "text/html": "<div>\n<style scoped>\n    .dataframe tbody tr th:only-of-type {\n        vertical-align: middle;\n    }\n\n    .dataframe tbody tr th {\n        vertical-align: top;\n    }\n\n    .dataframe thead th {\n        text-align: right;\n    }\n</style>\n<table border=\"1\" class=\"dataframe\">\n  <thead>\n    <tr style=\"text-align: right;\">\n      <th></th>\n      <th>25</th>\n      <th>Private</th>\n      <th>226802</th>\n      <th>11th</th>\n      <th>7</th>\n      <th>Never-married</th>\n      <th>Machine-op-inspct</th>\n      <th>Own-child</th>\n      <th>Black</th>\n      <th>Male</th>\n      <th>0</th>\n      <th>0.1</th>\n      <th>40</th>\n      <th>United-States</th>\n      <th>&lt;=50K.</th>\n    </tr>\n  </thead>\n  <tbody>\n    <tr>\n      <th>0</th>\n      <td>38</td>\n      <td>Private</td>\n      <td>89814</td>\n      <td>HS-grad</td>\n      <td>9</td>\n      <td>Married-civ-spouse</td>\n      <td>Farming-fishing</td>\n      <td>Husband</td>\n      <td>White</td>\n      <td>Male</td>\n      <td>0</td>\n      <td>0</td>\n      <td>50</td>\n      <td>United-States</td>\n      <td>&lt;=50K.</td>\n    </tr>\n    <tr>\n      <th>1</th>\n      <td>28</td>\n      <td>Local-gov</td>\n      <td>336951</td>\n      <td>Assoc-acdm</td>\n      <td>12</td>\n      <td>Married-civ-spouse</td>\n      <td>Protective-serv</td>\n      <td>Husband</td>\n      <td>White</td>\n      <td>Male</td>\n      <td>0</td>\n      <td>0</td>\n      <td>40</td>\n      <td>United-States</td>\n      <td>&gt;50K.</td>\n    </tr>\n    <tr>\n      <th>2</th>\n      <td>44</td>\n      <td>Private</td>\n      <td>160323</td>\n      <td>Some-college</td>\n      <td>10</td>\n      <td>Married-civ-spouse</td>\n      <td>Machine-op-inspct</td>\n      <td>Husband</td>\n      <td>Black</td>\n      <td>Male</td>\n      <td>7688</td>\n      <td>0</td>\n      <td>40</td>\n      <td>United-States</td>\n      <td>&gt;50K.</td>\n    </tr>\n    <tr>\n      <th>3</th>\n      <td>18</td>\n      <td>?</td>\n      <td>103497</td>\n      <td>Some-college</td>\n      <td>10</td>\n      <td>Never-married</td>\n      <td>?</td>\n      <td>Own-child</td>\n      <td>White</td>\n      <td>Female</td>\n      <td>0</td>\n      <td>0</td>\n      <td>30</td>\n      <td>United-States</td>\n      <td>&lt;=50K.</td>\n    </tr>\n    <tr>\n      <th>4</th>\n      <td>34</td>\n      <td>Private</td>\n      <td>198693</td>\n      <td>10th</td>\n      <td>6</td>\n      <td>Never-married</td>\n      <td>Other-service</td>\n      <td>Not-in-family</td>\n      <td>White</td>\n      <td>Male</td>\n      <td>0</td>\n      <td>0</td>\n      <td>30</td>\n      <td>United-States</td>\n      <td>&lt;=50K.</td>\n    </tr>\n    <tr>\n      <th>...</th>\n      <td>...</td>\n      <td>...</td>\n      <td>...</td>\n      <td>...</td>\n      <td>...</td>\n      <td>...</td>\n      <td>...</td>\n      <td>...</td>\n      <td>...</td>\n      <td>...</td>\n      <td>...</td>\n      <td>...</td>\n      <td>...</td>\n      <td>...</td>\n      <td>...</td>\n    </tr>\n    <tr>\n      <th>16275</th>\n      <td>39</td>\n      <td>Private</td>\n      <td>215419</td>\n      <td>Bachelors</td>\n      <td>13</td>\n      <td>Divorced</td>\n      <td>Prof-specialty</td>\n      <td>Not-in-family</td>\n      <td>White</td>\n      <td>Female</td>\n      <td>0</td>\n      <td>0</td>\n      <td>36</td>\n      <td>United-States</td>\n      <td>&lt;=50K.</td>\n    </tr>\n    <tr>\n      <th>16276</th>\n      <td>64</td>\n      <td>?</td>\n      <td>321403</td>\n      <td>HS-grad</td>\n      <td>9</td>\n      <td>Widowed</td>\n      <td>?</td>\n      <td>Other-relative</td>\n      <td>Black</td>\n      <td>Male</td>\n      <td>0</td>\n      <td>0</td>\n      <td>40</td>\n      <td>United-States</td>\n      <td>&lt;=50K.</td>\n    </tr>\n    <tr>\n      <th>16277</th>\n      <td>38</td>\n      <td>Private</td>\n      <td>374983</td>\n      <td>Bachelors</td>\n      <td>13</td>\n      <td>Married-civ-spouse</td>\n      <td>Prof-specialty</td>\n      <td>Husband</td>\n      <td>White</td>\n      <td>Male</td>\n      <td>0</td>\n      <td>0</td>\n      <td>50</td>\n      <td>United-States</td>\n      <td>&lt;=50K.</td>\n    </tr>\n    <tr>\n      <th>16278</th>\n      <td>44</td>\n      <td>Private</td>\n      <td>83891</td>\n      <td>Bachelors</td>\n      <td>13</td>\n      <td>Divorced</td>\n      <td>Adm-clerical</td>\n      <td>Own-child</td>\n      <td>Asian-Pac-Islander</td>\n      <td>Male</td>\n      <td>5455</td>\n      <td>0</td>\n      <td>40</td>\n      <td>United-States</td>\n      <td>&lt;=50K.</td>\n    </tr>\n    <tr>\n      <th>16279</th>\n      <td>35</td>\n      <td>Self-emp-inc</td>\n      <td>182148</td>\n      <td>Bachelors</td>\n      <td>13</td>\n      <td>Married-civ-spouse</td>\n      <td>Exec-managerial</td>\n      <td>Husband</td>\n      <td>White</td>\n      <td>Male</td>\n      <td>0</td>\n      <td>0</td>\n      <td>60</td>\n      <td>United-States</td>\n      <td>&gt;50K.</td>\n    </tr>\n  </tbody>\n</table>\n<p>16280 rows × 15 columns</p>\n</div>"
     },
     "execution_count": 375,
     "metadata": {},
     "output_type": "execute_result"
    }
   ],
   "source": [
    "test_data"
   ],
   "metadata": {
    "collapsed": false,
    "ExecuteTime": {
     "end_time": "2024-03-18T17:55:58.676804900Z",
     "start_time": "2024-03-18T17:55:58.002503200Z"
    }
   },
   "id": "b806bec1be40c0c2"
  },
  {
   "cell_type": "code",
   "execution_count": 376,
   "outputs": [],
   "source": [
    "column_headers = ['age','workclass','fnlwgt','education','education-num','marital-status','occupation','relationship','race','sex','capital-gain','capital-loss','hours-per-week','native-country','income']\n",
    "train_data.columns = column_headers\n",
    "test_data.columns = column_headers"
   ],
   "metadata": {
    "collapsed": false,
    "ExecuteTime": {
     "end_time": "2024-03-18T17:55:58.676804900Z",
     "start_time": "2024-03-18T17:55:58.033564800Z"
    }
   },
   "id": "3c267b2c4cde1e0b"
  },
  {
   "cell_type": "code",
   "execution_count": 377,
   "outputs": [
    {
     "data": {
      "text/plain": "       age          workclass  fnlwgt    education  education-num  \\\n0       50   Self-emp-not-inc   83311    Bachelors             13   \n1       38            Private  215646      HS-grad              9   \n2       53            Private  234721         11th              7   \n3       28            Private  338409    Bachelors             13   \n4       37            Private  284582      Masters             14   \n...    ...                ...     ...          ...            ...   \n32555   27            Private  257302   Assoc-acdm             12   \n32556   40            Private  154374      HS-grad              9   \n32557   58            Private  151910      HS-grad              9   \n32558   22            Private  201490      HS-grad              9   \n32559   52       Self-emp-inc  287927      HS-grad              9   \n\n            marital-status          occupation    relationship    race  \\\n0       Married-civ-spouse     Exec-managerial         Husband   White   \n1                 Divorced   Handlers-cleaners   Not-in-family   White   \n2       Married-civ-spouse   Handlers-cleaners         Husband   Black   \n3       Married-civ-spouse      Prof-specialty            Wife   Black   \n4       Married-civ-spouse     Exec-managerial            Wife   White   \n...                    ...                 ...             ...     ...   \n32555   Married-civ-spouse        Tech-support            Wife   White   \n32556   Married-civ-spouse   Machine-op-inspct         Husband   White   \n32557              Widowed        Adm-clerical       Unmarried   White   \n32558        Never-married        Adm-clerical       Own-child   White   \n32559   Married-civ-spouse     Exec-managerial            Wife   White   \n\n           sex  capital-gain  capital-loss  hours-per-week  native-country  \\\n0         Male             0             0              13   United-States   \n1         Male             0             0              40   United-States   \n2         Male             0             0              40   United-States   \n3       Female             0             0              40            Cuba   \n4       Female             0             0              40   United-States   \n...        ...           ...           ...             ...             ...   \n32555   Female             0             0              38   United-States   \n32556     Male             0             0              40   United-States   \n32557   Female             0             0              40   United-States   \n32558     Male             0             0              20   United-States   \n32559   Female         15024             0              40   United-States   \n\n       income  \n0       <=50K  \n1       <=50K  \n2       <=50K  \n3       <=50K  \n4       <=50K  \n...       ...  \n32555   <=50K  \n32556    >50K  \n32557   <=50K  \n32558   <=50K  \n32559    >50K  \n\n[32560 rows x 15 columns]",
      "text/html": "<div>\n<style scoped>\n    .dataframe tbody tr th:only-of-type {\n        vertical-align: middle;\n    }\n\n    .dataframe tbody tr th {\n        vertical-align: top;\n    }\n\n    .dataframe thead th {\n        text-align: right;\n    }\n</style>\n<table border=\"1\" class=\"dataframe\">\n  <thead>\n    <tr style=\"text-align: right;\">\n      <th></th>\n      <th>age</th>\n      <th>workclass</th>\n      <th>fnlwgt</th>\n      <th>education</th>\n      <th>education-num</th>\n      <th>marital-status</th>\n      <th>occupation</th>\n      <th>relationship</th>\n      <th>race</th>\n      <th>sex</th>\n      <th>capital-gain</th>\n      <th>capital-loss</th>\n      <th>hours-per-week</th>\n      <th>native-country</th>\n      <th>income</th>\n    </tr>\n  </thead>\n  <tbody>\n    <tr>\n      <th>0</th>\n      <td>50</td>\n      <td>Self-emp-not-inc</td>\n      <td>83311</td>\n      <td>Bachelors</td>\n      <td>13</td>\n      <td>Married-civ-spouse</td>\n      <td>Exec-managerial</td>\n      <td>Husband</td>\n      <td>White</td>\n      <td>Male</td>\n      <td>0</td>\n      <td>0</td>\n      <td>13</td>\n      <td>United-States</td>\n      <td>&lt;=50K</td>\n    </tr>\n    <tr>\n      <th>1</th>\n      <td>38</td>\n      <td>Private</td>\n      <td>215646</td>\n      <td>HS-grad</td>\n      <td>9</td>\n      <td>Divorced</td>\n      <td>Handlers-cleaners</td>\n      <td>Not-in-family</td>\n      <td>White</td>\n      <td>Male</td>\n      <td>0</td>\n      <td>0</td>\n      <td>40</td>\n      <td>United-States</td>\n      <td>&lt;=50K</td>\n    </tr>\n    <tr>\n      <th>2</th>\n      <td>53</td>\n      <td>Private</td>\n      <td>234721</td>\n      <td>11th</td>\n      <td>7</td>\n      <td>Married-civ-spouse</td>\n      <td>Handlers-cleaners</td>\n      <td>Husband</td>\n      <td>Black</td>\n      <td>Male</td>\n      <td>0</td>\n      <td>0</td>\n      <td>40</td>\n      <td>United-States</td>\n      <td>&lt;=50K</td>\n    </tr>\n    <tr>\n      <th>3</th>\n      <td>28</td>\n      <td>Private</td>\n      <td>338409</td>\n      <td>Bachelors</td>\n      <td>13</td>\n      <td>Married-civ-spouse</td>\n      <td>Prof-specialty</td>\n      <td>Wife</td>\n      <td>Black</td>\n      <td>Female</td>\n      <td>0</td>\n      <td>0</td>\n      <td>40</td>\n      <td>Cuba</td>\n      <td>&lt;=50K</td>\n    </tr>\n    <tr>\n      <th>4</th>\n      <td>37</td>\n      <td>Private</td>\n      <td>284582</td>\n      <td>Masters</td>\n      <td>14</td>\n      <td>Married-civ-spouse</td>\n      <td>Exec-managerial</td>\n      <td>Wife</td>\n      <td>White</td>\n      <td>Female</td>\n      <td>0</td>\n      <td>0</td>\n      <td>40</td>\n      <td>United-States</td>\n      <td>&lt;=50K</td>\n    </tr>\n    <tr>\n      <th>...</th>\n      <td>...</td>\n      <td>...</td>\n      <td>...</td>\n      <td>...</td>\n      <td>...</td>\n      <td>...</td>\n      <td>...</td>\n      <td>...</td>\n      <td>...</td>\n      <td>...</td>\n      <td>...</td>\n      <td>...</td>\n      <td>...</td>\n      <td>...</td>\n      <td>...</td>\n    </tr>\n    <tr>\n      <th>32555</th>\n      <td>27</td>\n      <td>Private</td>\n      <td>257302</td>\n      <td>Assoc-acdm</td>\n      <td>12</td>\n      <td>Married-civ-spouse</td>\n      <td>Tech-support</td>\n      <td>Wife</td>\n      <td>White</td>\n      <td>Female</td>\n      <td>0</td>\n      <td>0</td>\n      <td>38</td>\n      <td>United-States</td>\n      <td>&lt;=50K</td>\n    </tr>\n    <tr>\n      <th>32556</th>\n      <td>40</td>\n      <td>Private</td>\n      <td>154374</td>\n      <td>HS-grad</td>\n      <td>9</td>\n      <td>Married-civ-spouse</td>\n      <td>Machine-op-inspct</td>\n      <td>Husband</td>\n      <td>White</td>\n      <td>Male</td>\n      <td>0</td>\n      <td>0</td>\n      <td>40</td>\n      <td>United-States</td>\n      <td>&gt;50K</td>\n    </tr>\n    <tr>\n      <th>32557</th>\n      <td>58</td>\n      <td>Private</td>\n      <td>151910</td>\n      <td>HS-grad</td>\n      <td>9</td>\n      <td>Widowed</td>\n      <td>Adm-clerical</td>\n      <td>Unmarried</td>\n      <td>White</td>\n      <td>Female</td>\n      <td>0</td>\n      <td>0</td>\n      <td>40</td>\n      <td>United-States</td>\n      <td>&lt;=50K</td>\n    </tr>\n    <tr>\n      <th>32558</th>\n      <td>22</td>\n      <td>Private</td>\n      <td>201490</td>\n      <td>HS-grad</td>\n      <td>9</td>\n      <td>Never-married</td>\n      <td>Adm-clerical</td>\n      <td>Own-child</td>\n      <td>White</td>\n      <td>Male</td>\n      <td>0</td>\n      <td>0</td>\n      <td>20</td>\n      <td>United-States</td>\n      <td>&lt;=50K</td>\n    </tr>\n    <tr>\n      <th>32559</th>\n      <td>52</td>\n      <td>Self-emp-inc</td>\n      <td>287927</td>\n      <td>HS-grad</td>\n      <td>9</td>\n      <td>Married-civ-spouse</td>\n      <td>Exec-managerial</td>\n      <td>Wife</td>\n      <td>White</td>\n      <td>Female</td>\n      <td>15024</td>\n      <td>0</td>\n      <td>40</td>\n      <td>United-States</td>\n      <td>&gt;50K</td>\n    </tr>\n  </tbody>\n</table>\n<p>32560 rows × 15 columns</p>\n</div>"
     },
     "execution_count": 377,
     "metadata": {},
     "output_type": "execute_result"
    }
   ],
   "source": [
    "train_data"
   ],
   "metadata": {
    "collapsed": false,
    "ExecuteTime": {
     "end_time": "2024-03-18T17:55:58.676804900Z",
     "start_time": "2024-03-18T17:55:58.049223700Z"
    }
   },
   "id": "840e3c29d385c47a"
  },
  {
   "cell_type": "code",
   "execution_count": 378,
   "outputs": [
    {
     "data": {
      "text/plain": "       age      workclass  fnlwgt      education  education-num  \\\n0       38        Private   89814        HS-grad              9   \n1       28      Local-gov  336951     Assoc-acdm             12   \n2       44        Private  160323   Some-college             10   \n3       18              ?  103497   Some-college             10   \n4       34        Private  198693           10th              6   \n...    ...            ...     ...            ...            ...   \n16275   39        Private  215419      Bachelors             13   \n16276   64              ?  321403        HS-grad              9   \n16277   38        Private  374983      Bachelors             13   \n16278   44        Private   83891      Bachelors             13   \n16279   35   Self-emp-inc  182148      Bachelors             13   \n\n            marital-status          occupation     relationship  \\\n0       Married-civ-spouse     Farming-fishing          Husband   \n1       Married-civ-spouse     Protective-serv          Husband   \n2       Married-civ-spouse   Machine-op-inspct          Husband   \n3            Never-married                   ?        Own-child   \n4            Never-married       Other-service    Not-in-family   \n...                    ...                 ...              ...   \n16275             Divorced      Prof-specialty    Not-in-family   \n16276              Widowed                   ?   Other-relative   \n16277   Married-civ-spouse      Prof-specialty          Husband   \n16278             Divorced        Adm-clerical        Own-child   \n16279   Married-civ-spouse     Exec-managerial          Husband   \n\n                      race      sex  capital-gain  capital-loss  \\\n0                    White     Male             0             0   \n1                    White     Male             0             0   \n2                    Black     Male          7688             0   \n3                    White   Female             0             0   \n4                    White     Male             0             0   \n...                    ...      ...           ...           ...   \n16275                White   Female             0             0   \n16276                Black     Male             0             0   \n16277                White     Male             0             0   \n16278   Asian-Pac-Islander     Male          5455             0   \n16279                White     Male             0             0   \n\n       hours-per-week  native-country   income  \n0                  50   United-States   <=50K.  \n1                  40   United-States    >50K.  \n2                  40   United-States    >50K.  \n3                  30   United-States   <=50K.  \n4                  30   United-States   <=50K.  \n...               ...             ...      ...  \n16275              36   United-States   <=50K.  \n16276              40   United-States   <=50K.  \n16277              50   United-States   <=50K.  \n16278              40   United-States   <=50K.  \n16279              60   United-States    >50K.  \n\n[16280 rows x 15 columns]",
      "text/html": "<div>\n<style scoped>\n    .dataframe tbody tr th:only-of-type {\n        vertical-align: middle;\n    }\n\n    .dataframe tbody tr th {\n        vertical-align: top;\n    }\n\n    .dataframe thead th {\n        text-align: right;\n    }\n</style>\n<table border=\"1\" class=\"dataframe\">\n  <thead>\n    <tr style=\"text-align: right;\">\n      <th></th>\n      <th>age</th>\n      <th>workclass</th>\n      <th>fnlwgt</th>\n      <th>education</th>\n      <th>education-num</th>\n      <th>marital-status</th>\n      <th>occupation</th>\n      <th>relationship</th>\n      <th>race</th>\n      <th>sex</th>\n      <th>capital-gain</th>\n      <th>capital-loss</th>\n      <th>hours-per-week</th>\n      <th>native-country</th>\n      <th>income</th>\n    </tr>\n  </thead>\n  <tbody>\n    <tr>\n      <th>0</th>\n      <td>38</td>\n      <td>Private</td>\n      <td>89814</td>\n      <td>HS-grad</td>\n      <td>9</td>\n      <td>Married-civ-spouse</td>\n      <td>Farming-fishing</td>\n      <td>Husband</td>\n      <td>White</td>\n      <td>Male</td>\n      <td>0</td>\n      <td>0</td>\n      <td>50</td>\n      <td>United-States</td>\n      <td>&lt;=50K.</td>\n    </tr>\n    <tr>\n      <th>1</th>\n      <td>28</td>\n      <td>Local-gov</td>\n      <td>336951</td>\n      <td>Assoc-acdm</td>\n      <td>12</td>\n      <td>Married-civ-spouse</td>\n      <td>Protective-serv</td>\n      <td>Husband</td>\n      <td>White</td>\n      <td>Male</td>\n      <td>0</td>\n      <td>0</td>\n      <td>40</td>\n      <td>United-States</td>\n      <td>&gt;50K.</td>\n    </tr>\n    <tr>\n      <th>2</th>\n      <td>44</td>\n      <td>Private</td>\n      <td>160323</td>\n      <td>Some-college</td>\n      <td>10</td>\n      <td>Married-civ-spouse</td>\n      <td>Machine-op-inspct</td>\n      <td>Husband</td>\n      <td>Black</td>\n      <td>Male</td>\n      <td>7688</td>\n      <td>0</td>\n      <td>40</td>\n      <td>United-States</td>\n      <td>&gt;50K.</td>\n    </tr>\n    <tr>\n      <th>3</th>\n      <td>18</td>\n      <td>?</td>\n      <td>103497</td>\n      <td>Some-college</td>\n      <td>10</td>\n      <td>Never-married</td>\n      <td>?</td>\n      <td>Own-child</td>\n      <td>White</td>\n      <td>Female</td>\n      <td>0</td>\n      <td>0</td>\n      <td>30</td>\n      <td>United-States</td>\n      <td>&lt;=50K.</td>\n    </tr>\n    <tr>\n      <th>4</th>\n      <td>34</td>\n      <td>Private</td>\n      <td>198693</td>\n      <td>10th</td>\n      <td>6</td>\n      <td>Never-married</td>\n      <td>Other-service</td>\n      <td>Not-in-family</td>\n      <td>White</td>\n      <td>Male</td>\n      <td>0</td>\n      <td>0</td>\n      <td>30</td>\n      <td>United-States</td>\n      <td>&lt;=50K.</td>\n    </tr>\n    <tr>\n      <th>...</th>\n      <td>...</td>\n      <td>...</td>\n      <td>...</td>\n      <td>...</td>\n      <td>...</td>\n      <td>...</td>\n      <td>...</td>\n      <td>...</td>\n      <td>...</td>\n      <td>...</td>\n      <td>...</td>\n      <td>...</td>\n      <td>...</td>\n      <td>...</td>\n      <td>...</td>\n    </tr>\n    <tr>\n      <th>16275</th>\n      <td>39</td>\n      <td>Private</td>\n      <td>215419</td>\n      <td>Bachelors</td>\n      <td>13</td>\n      <td>Divorced</td>\n      <td>Prof-specialty</td>\n      <td>Not-in-family</td>\n      <td>White</td>\n      <td>Female</td>\n      <td>0</td>\n      <td>0</td>\n      <td>36</td>\n      <td>United-States</td>\n      <td>&lt;=50K.</td>\n    </tr>\n    <tr>\n      <th>16276</th>\n      <td>64</td>\n      <td>?</td>\n      <td>321403</td>\n      <td>HS-grad</td>\n      <td>9</td>\n      <td>Widowed</td>\n      <td>?</td>\n      <td>Other-relative</td>\n      <td>Black</td>\n      <td>Male</td>\n      <td>0</td>\n      <td>0</td>\n      <td>40</td>\n      <td>United-States</td>\n      <td>&lt;=50K.</td>\n    </tr>\n    <tr>\n      <th>16277</th>\n      <td>38</td>\n      <td>Private</td>\n      <td>374983</td>\n      <td>Bachelors</td>\n      <td>13</td>\n      <td>Married-civ-spouse</td>\n      <td>Prof-specialty</td>\n      <td>Husband</td>\n      <td>White</td>\n      <td>Male</td>\n      <td>0</td>\n      <td>0</td>\n      <td>50</td>\n      <td>United-States</td>\n      <td>&lt;=50K.</td>\n    </tr>\n    <tr>\n      <th>16278</th>\n      <td>44</td>\n      <td>Private</td>\n      <td>83891</td>\n      <td>Bachelors</td>\n      <td>13</td>\n      <td>Divorced</td>\n      <td>Adm-clerical</td>\n      <td>Own-child</td>\n      <td>Asian-Pac-Islander</td>\n      <td>Male</td>\n      <td>5455</td>\n      <td>0</td>\n      <td>40</td>\n      <td>United-States</td>\n      <td>&lt;=50K.</td>\n    </tr>\n    <tr>\n      <th>16279</th>\n      <td>35</td>\n      <td>Self-emp-inc</td>\n      <td>182148</td>\n      <td>Bachelors</td>\n      <td>13</td>\n      <td>Married-civ-spouse</td>\n      <td>Exec-managerial</td>\n      <td>Husband</td>\n      <td>White</td>\n      <td>Male</td>\n      <td>0</td>\n      <td>0</td>\n      <td>60</td>\n      <td>United-States</td>\n      <td>&gt;50K.</td>\n    </tr>\n  </tbody>\n</table>\n<p>16280 rows × 15 columns</p>\n</div>"
     },
     "execution_count": 378,
     "metadata": {},
     "output_type": "execute_result"
    }
   ],
   "source": [
    "test_data"
   ],
   "metadata": {
    "collapsed": false,
    "ExecuteTime": {
     "end_time": "2024-03-18T17:55:58.689911600Z",
     "start_time": "2024-03-18T17:55:58.080979200Z"
    }
   },
   "id": "51b7099ff68788b0"
  },
  {
   "cell_type": "code",
   "execution_count": 379,
   "outputs": [
    {
     "name": "stdout",
     "output_type": "stream",
     "text": [
      "<class 'pandas.core.frame.DataFrame'>\n",
      "RangeIndex: 48840 entries, 0 to 48839\n",
      "Data columns (total 15 columns):\n",
      " #   Column          Non-Null Count  Dtype \n",
      "---  ------          --------------  ----- \n",
      " 0   age             48840 non-null  int64 \n",
      " 1   workclass       48840 non-null  object\n",
      " 2   fnlwgt          48840 non-null  int64 \n",
      " 3   education       48840 non-null  object\n",
      " 4   education-num   48840 non-null  int64 \n",
      " 5   marital-status  48840 non-null  object\n",
      " 6   occupation      48840 non-null  object\n",
      " 7   relationship    48840 non-null  object\n",
      " 8   race            48840 non-null  object\n",
      " 9   sex             48840 non-null  object\n",
      " 10  capital-gain    48840 non-null  int64 \n",
      " 11  capital-loss    48840 non-null  int64 \n",
      " 12  hours-per-week  48840 non-null  int64 \n",
      " 13  native-country  48840 non-null  object\n",
      " 14  income          48840 non-null  object\n",
      "dtypes: int64(6), object(9)\n",
      "memory usage: 5.6+ MB\n"
     ]
    }
   ],
   "source": [
    "combined_data = pd.concat([train_data, test_data], axis=0, ignore_index=True) #ignore index true resets the index\n",
    "combined_data.info()"
   ],
   "metadata": {
    "collapsed": false,
    "ExecuteTime": {
     "end_time": "2024-03-18T17:55:58.692925100Z",
     "start_time": "2024-03-18T17:55:58.112731400Z"
    }
   },
   "id": "bb209b96875e062a"
  },
  {
   "cell_type": "code",
   "execution_count": 380,
   "outputs": [
    {
     "data": {
      "text/plain": "       age         workclass  fnlwgt  education  education-num  \\\n0       50  self-emp-not-inc   83311  bachelors             13   \n1       38           private  215646    hs-grad              9   \n2       53           private  234721       11th              7   \n3       28           private  338409  bachelors             13   \n4       37           private  284582    masters             14   \n...    ...               ...     ...        ...            ...   \n48835   39           private  215419  bachelors             13   \n48836   64                 ?  321403    hs-grad              9   \n48837   38           private  374983  bachelors             13   \n48838   44           private   83891  bachelors             13   \n48839   35      self-emp-inc  182148  bachelors             13   \n\n           marital-status         occupation    relationship  \\\n0      married-civ-spouse    exec-managerial         husband   \n1                divorced  handlers-cleaners   not-in-family   \n2      married-civ-spouse  handlers-cleaners         husband   \n3      married-civ-spouse     prof-specialty            wife   \n4      married-civ-spouse    exec-managerial            wife   \n...                   ...                ...             ...   \n48835            divorced     prof-specialty   not-in-family   \n48836             widowed                  ?  other-relative   \n48837  married-civ-spouse     prof-specialty         husband   \n48838            divorced       adm-clerical       own-child   \n48839  married-civ-spouse    exec-managerial         husband   \n\n                     race     sex  capital-gain  capital-loss  hours-per-week  \\\n0                   white    male             0             0              13   \n1                   white    male             0             0              40   \n2                   black    male             0             0              40   \n3                   black  female             0             0              40   \n4                   white  female             0             0              40   \n...                   ...     ...           ...           ...             ...   \n48835               white  female             0             0              36   \n48836               black    male             0             0              40   \n48837               white    male             0             0              50   \n48838  asian-pac-islander    male          5455             0              40   \n48839               white    male             0             0              60   \n\n      native-country  income  \n0      united-states   <=50k  \n1      united-states   <=50k  \n2      united-states   <=50k  \n3               cuba   <=50k  \n4      united-states   <=50k  \n...              ...     ...  \n48835  united-states  <=50k.  \n48836  united-states  <=50k.  \n48837  united-states  <=50k.  \n48838  united-states  <=50k.  \n48839  united-states   >50k.  \n\n[48840 rows x 15 columns]",
      "text/html": "<div>\n<style scoped>\n    .dataframe tbody tr th:only-of-type {\n        vertical-align: middle;\n    }\n\n    .dataframe tbody tr th {\n        vertical-align: top;\n    }\n\n    .dataframe thead th {\n        text-align: right;\n    }\n</style>\n<table border=\"1\" class=\"dataframe\">\n  <thead>\n    <tr style=\"text-align: right;\">\n      <th></th>\n      <th>age</th>\n      <th>workclass</th>\n      <th>fnlwgt</th>\n      <th>education</th>\n      <th>education-num</th>\n      <th>marital-status</th>\n      <th>occupation</th>\n      <th>relationship</th>\n      <th>race</th>\n      <th>sex</th>\n      <th>capital-gain</th>\n      <th>capital-loss</th>\n      <th>hours-per-week</th>\n      <th>native-country</th>\n      <th>income</th>\n    </tr>\n  </thead>\n  <tbody>\n    <tr>\n      <th>0</th>\n      <td>50</td>\n      <td>self-emp-not-inc</td>\n      <td>83311</td>\n      <td>bachelors</td>\n      <td>13</td>\n      <td>married-civ-spouse</td>\n      <td>exec-managerial</td>\n      <td>husband</td>\n      <td>white</td>\n      <td>male</td>\n      <td>0</td>\n      <td>0</td>\n      <td>13</td>\n      <td>united-states</td>\n      <td>&lt;=50k</td>\n    </tr>\n    <tr>\n      <th>1</th>\n      <td>38</td>\n      <td>private</td>\n      <td>215646</td>\n      <td>hs-grad</td>\n      <td>9</td>\n      <td>divorced</td>\n      <td>handlers-cleaners</td>\n      <td>not-in-family</td>\n      <td>white</td>\n      <td>male</td>\n      <td>0</td>\n      <td>0</td>\n      <td>40</td>\n      <td>united-states</td>\n      <td>&lt;=50k</td>\n    </tr>\n    <tr>\n      <th>2</th>\n      <td>53</td>\n      <td>private</td>\n      <td>234721</td>\n      <td>11th</td>\n      <td>7</td>\n      <td>married-civ-spouse</td>\n      <td>handlers-cleaners</td>\n      <td>husband</td>\n      <td>black</td>\n      <td>male</td>\n      <td>0</td>\n      <td>0</td>\n      <td>40</td>\n      <td>united-states</td>\n      <td>&lt;=50k</td>\n    </tr>\n    <tr>\n      <th>3</th>\n      <td>28</td>\n      <td>private</td>\n      <td>338409</td>\n      <td>bachelors</td>\n      <td>13</td>\n      <td>married-civ-spouse</td>\n      <td>prof-specialty</td>\n      <td>wife</td>\n      <td>black</td>\n      <td>female</td>\n      <td>0</td>\n      <td>0</td>\n      <td>40</td>\n      <td>cuba</td>\n      <td>&lt;=50k</td>\n    </tr>\n    <tr>\n      <th>4</th>\n      <td>37</td>\n      <td>private</td>\n      <td>284582</td>\n      <td>masters</td>\n      <td>14</td>\n      <td>married-civ-spouse</td>\n      <td>exec-managerial</td>\n      <td>wife</td>\n      <td>white</td>\n      <td>female</td>\n      <td>0</td>\n      <td>0</td>\n      <td>40</td>\n      <td>united-states</td>\n      <td>&lt;=50k</td>\n    </tr>\n    <tr>\n      <th>...</th>\n      <td>...</td>\n      <td>...</td>\n      <td>...</td>\n      <td>...</td>\n      <td>...</td>\n      <td>...</td>\n      <td>...</td>\n      <td>...</td>\n      <td>...</td>\n      <td>...</td>\n      <td>...</td>\n      <td>...</td>\n      <td>...</td>\n      <td>...</td>\n      <td>...</td>\n    </tr>\n    <tr>\n      <th>48835</th>\n      <td>39</td>\n      <td>private</td>\n      <td>215419</td>\n      <td>bachelors</td>\n      <td>13</td>\n      <td>divorced</td>\n      <td>prof-specialty</td>\n      <td>not-in-family</td>\n      <td>white</td>\n      <td>female</td>\n      <td>0</td>\n      <td>0</td>\n      <td>36</td>\n      <td>united-states</td>\n      <td>&lt;=50k.</td>\n    </tr>\n    <tr>\n      <th>48836</th>\n      <td>64</td>\n      <td>?</td>\n      <td>321403</td>\n      <td>hs-grad</td>\n      <td>9</td>\n      <td>widowed</td>\n      <td>?</td>\n      <td>other-relative</td>\n      <td>black</td>\n      <td>male</td>\n      <td>0</td>\n      <td>0</td>\n      <td>40</td>\n      <td>united-states</td>\n      <td>&lt;=50k.</td>\n    </tr>\n    <tr>\n      <th>48837</th>\n      <td>38</td>\n      <td>private</td>\n      <td>374983</td>\n      <td>bachelors</td>\n      <td>13</td>\n      <td>married-civ-spouse</td>\n      <td>prof-specialty</td>\n      <td>husband</td>\n      <td>white</td>\n      <td>male</td>\n      <td>0</td>\n      <td>0</td>\n      <td>50</td>\n      <td>united-states</td>\n      <td>&lt;=50k.</td>\n    </tr>\n    <tr>\n      <th>48838</th>\n      <td>44</td>\n      <td>private</td>\n      <td>83891</td>\n      <td>bachelors</td>\n      <td>13</td>\n      <td>divorced</td>\n      <td>adm-clerical</td>\n      <td>own-child</td>\n      <td>asian-pac-islander</td>\n      <td>male</td>\n      <td>5455</td>\n      <td>0</td>\n      <td>40</td>\n      <td>united-states</td>\n      <td>&lt;=50k.</td>\n    </tr>\n    <tr>\n      <th>48839</th>\n      <td>35</td>\n      <td>self-emp-inc</td>\n      <td>182148</td>\n      <td>bachelors</td>\n      <td>13</td>\n      <td>married-civ-spouse</td>\n      <td>exec-managerial</td>\n      <td>husband</td>\n      <td>white</td>\n      <td>male</td>\n      <td>0</td>\n      <td>0</td>\n      <td>60</td>\n      <td>united-states</td>\n      <td>&gt;50k.</td>\n    </tr>\n  </tbody>\n</table>\n<p>48840 rows × 15 columns</p>\n</div>"
     },
     "execution_count": 380,
     "metadata": {},
     "output_type": "execute_result"
    }
   ],
   "source": [
    "#standardising the text based data in each column\n",
    "combined_data['workclass'] = combined_data['workclass'].str.lower().str.strip() \n",
    "combined_data['education'] = combined_data['education'].str.lower().str.strip()\n",
    "combined_data['marital-status'] = combined_data['marital-status'].str.lower().str.strip()\n",
    "combined_data['occupation'] = combined_data['occupation'].str.lower().str.strip()\n",
    "combined_data['relationship'] = combined_data['relationship'].str.lower().str.strip()\n",
    "combined_data['race'] = combined_data['race'].str.lower().str.strip()\n",
    "combined_data['sex'] = combined_data['sex'].str.lower().str.strip()\n",
    "combined_data['native-country'] = combined_data['native-country'].str.lower().str.strip()\n",
    "combined_data['income'] = combined_data['income'].str.lower().str.strip()\n",
    "combined_data"
   ],
   "metadata": {
    "collapsed": false,
    "ExecuteTime": {
     "end_time": "2024-03-18T17:55:58.692925100Z",
     "start_time": "2024-03-18T17:55:58.159983900Z"
    }
   },
   "id": "35b952fa1f527ad5"
  },
  {
   "cell_type": "code",
   "execution_count": 381,
   "outputs": [
    {
     "name": "stdout",
     "output_type": "stream",
     "text": [
      "<class 'pandas.core.frame.DataFrame'>\n",
      "RangeIndex: 48840 entries, 0 to 48839\n",
      "Data columns (total 15 columns):\n",
      " #   Column          Non-Null Count  Dtype \n",
      "---  ------          --------------  ----- \n",
      " 0   age             48840 non-null  int64 \n",
      " 1   workclass       48840 non-null  object\n",
      " 2   fnlwgt          48840 non-null  int64 \n",
      " 3   education       48840 non-null  object\n",
      " 4   education-num   48840 non-null  int64 \n",
      " 5   marital-status  48840 non-null  object\n",
      " 6   occupation      48840 non-null  object\n",
      " 7   relationship    48840 non-null  object\n",
      " 8   race            48840 non-null  object\n",
      " 9   sex             48840 non-null  object\n",
      " 10  capital-gain    48840 non-null  int64 \n",
      " 11  capital-loss    48840 non-null  int64 \n",
      " 12  hours-per-week  48840 non-null  int64 \n",
      " 13  native-country  48840 non-null  object\n",
      " 14  income          48840 non-null  object\n",
      "dtypes: int64(6), object(9)\n",
      "memory usage: 5.6+ MB\n"
     ]
    }
   ],
   "source": [
    "combined_data.drop_duplicates()\n",
    "combined_data.info()"
   ],
   "metadata": {
    "collapsed": false,
    "ExecuteTime": {
     "end_time": "2024-03-18T17:55:58.692925100Z",
     "start_time": "2024-03-18T17:55:58.431006700Z"
    }
   },
   "id": "a0f250d7fe527299"
  },
  {
   "cell_type": "code",
   "execution_count": 382,
   "outputs": [
    {
     "data": {
      "text/plain": "income\n<=50k     24719\n<=50k.    12434\n>50k       7841\n>50k.      3846\nName: count, dtype: int64"
     },
     "execution_count": 382,
     "metadata": {},
     "output_type": "execute_result"
    }
   ],
   "source": [
    "combined_data['income'].value_counts()"
   ],
   "metadata": {
    "collapsed": false,
    "ExecuteTime": {
     "end_time": "2024-03-18T17:55:58.692925100Z",
     "start_time": "2024-03-18T17:55:58.566718300Z"
    }
   },
   "id": "cd4c0debe3dea5a3"
  },
  {
   "cell_type": "code",
   "execution_count": 383,
   "outputs": [
    {
     "data": {
      "text/plain": "income\n<=50k    37153\n>50k     11687\nName: count, dtype: int64"
     },
     "execution_count": 383,
     "metadata": {},
     "output_type": "execute_result"
    }
   ],
   "source": [
    "#The income column has datapoints with '.'\n",
    "combined_data['income'] = combined_data['income'].replace('<=50k.','<=50k')\n",
    "combined_data['income'] = combined_data['income'].replace('>50k.','>50k')\n",
    "combined_data['income'].value_counts()"
   ],
   "metadata": {
    "collapsed": false,
    "ExecuteTime": {
     "end_time": "2024-03-18T17:55:58.711882400Z",
     "start_time": "2024-03-18T17:55:58.582550100Z"
    }
   },
   "id": "122cdc8aa3eabd25"
  },
  {
   "cell_type": "code",
   "execution_count": 384,
   "outputs": [
    {
     "data": {
      "text/plain": "array(['self-emp-not-inc', 'private', 'state-gov', 'federal-gov',\n       'local-gov', '?', 'self-emp-inc', 'without-pay', 'never-worked'],\n      dtype=object)"
     },
     "execution_count": 384,
     "metadata": {},
     "output_type": "execute_result"
    }
   ],
   "source": [
    "combined_data['workclass'].unique()"
   ],
   "metadata": {
    "collapsed": false,
    "ExecuteTime": {
     "end_time": "2024-03-18T17:55:58.712395300Z",
     "start_time": "2024-03-18T17:55:58.615077300Z"
    }
   },
   "id": "ba9f139e33b3550e"
  },
  {
   "cell_type": "code",
   "execution_count": 385,
   "outputs": [
    {
     "data": {
      "text/plain": "race\nwhite                 41761\nblack                  4684\nasian-pac-islander     1519\namer-indian-eskimo      470\nother                   406\nName: count, dtype: int64"
     },
     "execution_count": 385,
     "metadata": {},
     "output_type": "execute_result"
    }
   ],
   "source": [
    "combined_data['race'].value_counts()"
   ],
   "metadata": {
    "collapsed": false,
    "ExecuteTime": {
     "end_time": "2024-03-18T17:55:58.953174800Z",
     "start_time": "2024-03-18T17:55:58.632906900Z"
    }
   },
   "id": "6d336f208d24d8fb"
  },
  {
   "cell_type": "code",
   "execution_count": 386,
   "outputs": [
    {
     "data": {
      "text/plain": "sex\nmale      32648\nfemale    16192\nName: count, dtype: int64"
     },
     "execution_count": 386,
     "metadata": {},
     "output_type": "execute_result"
    }
   ],
   "source": [
    "combined_data['sex'].value_counts()"
   ],
   "metadata": {
    "collapsed": false,
    "ExecuteTime": {
     "end_time": "2024-03-18T17:55:59.003583700Z",
     "start_time": "2024-03-18T17:55:58.661170600Z"
    }
   },
   "id": "c5b0d62d06988c13"
  },
  {
   "cell_type": "code",
   "execution_count": 387,
   "outputs": [
    {
     "data": {
      "text/plain": "occupation\nprof-specialty       6172\ncraft-repair         6112\nexec-managerial      6086\nadm-clerical         5610\nsales                5504\nother-service        4923\nmachine-op-inspct    3021\n?                    2809\ntransport-moving     2355\nhandlers-cleaners    2072\nfarming-fishing      1490\ntech-support         1446\nprotective-serv       983\npriv-house-serv       242\narmed-forces           15\nName: count, dtype: int64"
     },
     "execution_count": 387,
     "metadata": {},
     "output_type": "execute_result"
    }
   ],
   "source": [
    "combined_data['occupation'].value_counts()"
   ],
   "metadata": {
    "collapsed": false,
    "ExecuteTime": {
     "end_time": "2024-03-18T17:55:59.082222Z",
     "start_time": "2024-03-18T17:55:58.692925100Z"
    }
   },
   "id": "cf3c0746ed22f34c"
  },
  {
   "cell_type": "code",
   "execution_count": 390,
   "outputs": [
    {
     "data": {
      "text/plain": "marital-status\nmarried-civ-spouse       22379\nnever-married            16115\ndivorced                  6633\nseparated                 1530\nwidowed                   1518\nmarried-spouse-absent      628\nmarried-af-spouse           37\nName: count, dtype: int64"
     },
     "execution_count": 390,
     "metadata": {},
     "output_type": "execute_result"
    }
   ],
   "source": [
    "combined_data['marital-status'].value_counts()"
   ],
   "metadata": {
    "collapsed": false,
    "ExecuteTime": {
     "end_time": "2024-03-18T17:55:59.490109500Z",
     "start_time": "2024-03-18T17:55:58.756595700Z"
    }
   },
   "id": "780704508f06fabe"
  },
  {
   "cell_type": "code",
   "execution_count": 391,
   "outputs": [
    {
     "data": {
      "text/plain": "native-country\nunited-states                 43830\nmexico                          951\n?                               857\nphilippines                     295\ngermany                         206\npuerto-rico                     184\ncanada                          182\nel-salvador                     155\nindia                           151\ncuba                            138\nengland                         127\nchina                           122\nsouth                           115\njamaica                         106\nitaly                           105\ndominican-republic              103\njapan                            92\nguatemala                        88\npoland                           87\nvietnam                          86\ncolumbia                         85\nhaiti                            75\nportugal                         67\ntaiwan                           65\niran                             59\ngreece                           49\nnicaragua                        49\nperu                             46\necuador                          45\nfrance                           38\nireland                          37\nhong                             30\nthailand                         30\ncambodia                         28\ntrinadad&tobago                  27\nlaos                             23\nyugoslavia                       23\noutlying-us(guam-usvi-etc)       23\nscotland                         21\nhonduras                         20\nhungary                          19\nholand-netherlands                1\nName: count, dtype: int64"
     },
     "execution_count": 391,
     "metadata": {},
     "output_type": "execute_result"
    }
   ],
   "source": [
    "combined_data['native-country'].value_counts()"
   ],
   "metadata": {
    "collapsed": false,
    "ExecuteTime": {
     "end_time": "2024-03-18T17:55:59.490109500Z",
     "start_time": "2024-03-18T17:55:58.787857500Z"
    }
   },
   "id": "a97e548213b4af78"
  },
  {
   "cell_type": "code",
   "execution_count": 392,
   "outputs": [
    {
     "name": "stdout",
     "output_type": "stream",
     "text": [
      "[50 38 53 28 37 49 52 31 42 30 23 32 40 34 25 43 54 35 59 56 19 39 20 45\n",
      " 22 48 21 24 57 44 41 29 18 47 46 36 79 27 67 33 76 17 55 61 70 64 71 68\n",
      " 66 51 58 26 60 90 75 65 77 62 63 80 72 74 69 73 81 78 88 82 83 84 85 86\n",
      " 87 89]\n",
      "['self-emp-not-inc' 'private' 'state-gov' 'federal-gov' 'local-gov' '?'\n",
      " 'self-emp-inc' 'without-pay' 'never-worked']\n",
      "[ 83311 215646 234721 ... 173449  89686 350977]\n",
      "['bachelors' 'hs-grad' '11th' 'masters' '9th' 'some-college' 'assoc-acdm'\n",
      " 'assoc-voc' '7th-8th' 'doctorate' 'prof-school' '5th-6th' '10th'\n",
      " '1st-4th' 'preschool' '12th']\n",
      "[13  9  7 14  5 10 12 11  4 16 15  3  6  2  1  8]\n",
      "['married-civ-spouse' 'divorced' 'married-spouse-absent' 'never-married'\n",
      " 'separated' 'married-af-spouse' 'widowed']\n",
      "['exec-managerial' 'handlers-cleaners' 'prof-specialty' 'other-service'\n",
      " 'adm-clerical' 'sales' 'craft-repair' 'transport-moving'\n",
      " 'farming-fishing' 'machine-op-inspct' 'tech-support' '?'\n",
      " 'protective-serv' 'armed-forces' 'priv-house-serv']\n",
      "['husband' 'not-in-family' 'wife' 'own-child' 'unmarried' 'other-relative']\n",
      "['white' 'black' 'asian-pac-islander' 'amer-indian-eskimo' 'other']\n",
      "['male' 'female']\n",
      "[    0 14084  5178  5013  2407 14344 15024  7688 34095  4064  4386  7298\n",
      "  1409  3674  1055  3464  2050  2176  2174   594 20051  6849  4101  1111\n",
      "  8614  3411  2597 25236  4650  9386  2463  3103 10605  2964  3325  2580\n",
      "  3471  4865 99999  6514  1471  2329  2105  2885 25124 10520  2202  2961\n",
      " 27828  6767  2228  1506 13550  2635  5556  4787  3781  3137  3818  3942\n",
      "   914   401  2829  2977  4934  2062  2354  5455 15020  1424  3273 22040\n",
      "  4416  3908 10566   991  4931  1086  7430  6497   114  7896  2346  3418\n",
      "  3432  2907  1151  2414  2290 15831 41310  4508  2538  3456  6418  1848\n",
      "  3887  5721  9562  1455  2036  1831 11678  2936  2993  7443  6360  1797\n",
      "  1173  4687  6723  2009  6097  2653  1639 18481  7978  2387  5060  1264\n",
      "  7262  1731  6612]\n",
      "[   0 2042 1408 1902 1573 1887 1719 1762 1564 2179 1816 1980 1977 1876\n",
      " 1340 2206 1741 1485 2339 2415 1380 1721 2051 2377 1669 2352 1672  653\n",
      " 2392 1504 2001 1590 1651 1628 1848 1740 2002 1579 2258 1602  419 2547\n",
      " 2174 2205 1726 2444 1138 2238  625  213 1539  880 1668 1092 1594 3004\n",
      " 2231 1844  810 2824 2559 2057 1974  974 2149 1825 1735 1258 2129 2603\n",
      " 2282  323 4356 2246 1617 1648 2489 3770 1755 3683 2267 2080 2457  155\n",
      " 3900 2201 1944 2467 2163 2754 2472 1411 1429 3175 1510 1870 1911 2465\n",
      " 1421]\n",
      "[13 40 16 45 50 80 30 35 60 20 52 44 15 25 38 43 55 48 58 32 70  2 22 56\n",
      " 41 28 36 24 46 42 12 65  1 10 34 75 98 33 54  8  6 64 19 18 72  5  9 47\n",
      " 37 21 26 14  4 59  7 99 53 39 62 57 78 90 66 11 49 84  3 17 68 27 85 31\n",
      " 51 77 63 23 87 88 73 89 97 94 29 96 67 82 86 91 81 76 92 61 74 95 79 69]\n",
      "['united-states' 'cuba' 'jamaica' 'india' '?' 'mexico' 'south'\n",
      " 'puerto-rico' 'honduras' 'england' 'canada' 'germany' 'iran'\n",
      " 'philippines' 'italy' 'poland' 'columbia' 'cambodia' 'thailand' 'ecuador'\n",
      " 'laos' 'taiwan' 'haiti' 'portugal' 'dominican-republic' 'el-salvador'\n",
      " 'france' 'guatemala' 'china' 'japan' 'yugoslavia' 'peru'\n",
      " 'outlying-us(guam-usvi-etc)' 'scotland' 'trinadad&tobago' 'greece'\n",
      " 'nicaragua' 'vietnam' 'hong' 'ireland' 'hungary' 'holand-netherlands']\n",
      "['<=50k' '>50k']\n"
     ]
    }
   ],
   "source": [
    "for i in combined_data.columns:\n",
    "    print(combined_data[i].unique())"
   ],
   "metadata": {
    "collapsed": false,
    "ExecuteTime": {
     "end_time": "2024-03-18T17:55:59.678695600Z",
     "start_time": "2024-03-18T17:55:58.819406100Z"
    }
   },
   "id": "f73db8fde5d9863"
  },
  {
   "cell_type": "code",
   "execution_count": 393,
   "outputs": [
    {
     "name": "stdout",
     "output_type": "stream",
     "text": [
      "workclass has 2799 missing values\n",
      "occupation has 2809 missing values\n",
      "native-country has 857 missing values\n"
     ]
    }
   ],
   "source": [
    "for i in combined_data.columns:\n",
    "    count = (combined_data[i]=='?').sum()\n",
    "    if count > 0:\n",
    "        print(f\"{i} has {count} missing values\")"
   ],
   "metadata": {
    "collapsed": false,
    "ExecuteTime": {
     "end_time": "2024-03-18T17:55:59.678695600Z",
     "start_time": "2024-03-18T17:55:58.879154800Z"
    }
   },
   "id": "574c3cc0f34bdabe"
  },
  {
   "cell_type": "code",
   "execution_count": 394,
   "outputs": [
    {
     "name": "stdout",
     "output_type": "stream",
     "text": [
      "<class 'pandas.core.frame.DataFrame'>\n",
      "RangeIndex: 48840 entries, 0 to 48839\n",
      "Data columns (total 15 columns):\n",
      " #   Column          Non-Null Count  Dtype \n",
      "---  ------          --------------  ----- \n",
      " 0   age             48840 non-null  int64 \n",
      " 1   workclass       46041 non-null  object\n",
      " 2   fnlwgt          48840 non-null  int64 \n",
      " 3   education       48840 non-null  object\n",
      " 4   education-num   48840 non-null  int64 \n",
      " 5   marital-status  48840 non-null  object\n",
      " 6   occupation      46031 non-null  object\n",
      " 7   relationship    48840 non-null  object\n",
      " 8   race            48840 non-null  object\n",
      " 9   sex             48840 non-null  object\n",
      " 10  capital-gain    48840 non-null  int64 \n",
      " 11  capital-loss    48840 non-null  int64 \n",
      " 12  hours-per-week  48840 non-null  int64 \n",
      " 13  native-country  47983 non-null  object\n",
      " 14  income          48840 non-null  object\n",
      "dtypes: int64(6), object(9)\n",
      "memory usage: 5.6+ MB\n"
     ]
    }
   ],
   "source": [
    "import numpy as np\n",
    "\n",
    "combined_data.replace('?',np.NaN, inplace=True)\n",
    "combined_data.info()"
   ],
   "metadata": {
    "collapsed": false,
    "ExecuteTime": {
     "end_time": "2024-03-18T17:55:59.967189Z",
     "start_time": "2024-03-18T17:55:58.956686Z"
    }
   },
   "id": "bc57c2a4f9f4872a"
  },
  {
   "cell_type": "code",
   "execution_count": 395,
   "outputs": [
    {
     "data": {
      "text/plain": "2799"
     },
     "execution_count": 395,
     "metadata": {},
     "output_type": "execute_result"
    }
   ],
   "source": [
    "((combined_data['workclass'].isna()) & (combined_data['occupation'].isna())).sum()"
   ],
   "metadata": {
    "collapsed": false,
    "ExecuteTime": {
     "end_time": "2024-03-18T17:56:00.014081300Z",
     "start_time": "2024-03-18T17:55:59.067697200Z"
    }
   },
   "id": "d4baeba17f1cd2f2"
  },
  {
   "cell_type": "code",
   "execution_count": 396,
   "outputs": [
    {
     "data": {
      "text/plain": "10"
     },
     "execution_count": 396,
     "metadata": {},
     "output_type": "execute_result"
    }
   ],
   "source": [
    "((combined_data['workclass'].notna()) & (combined_data['occupation'].isna())).sum()"
   ],
   "metadata": {
    "collapsed": false,
    "ExecuteTime": {
     "end_time": "2024-03-18T17:56:00.045453100Z",
     "start_time": "2024-03-18T17:55:59.097987700Z"
    }
   },
   "id": "3048734045203137"
  },
  {
   "cell_type": "code",
   "execution_count": 397,
   "outputs": [
    {
     "name": "stdout",
     "output_type": "stream",
     "text": [
      "<class 'pandas.core.frame.DataFrame'>\n",
      "Index: 48830 entries, 0 to 48839\n",
      "Data columns (total 15 columns):\n",
      " #   Column          Non-Null Count  Dtype \n",
      "---  ------          --------------  ----- \n",
      " 0   age             48830 non-null  int64 \n",
      " 1   workclass       46031 non-null  object\n",
      " 2   fnlwgt          48830 non-null  int64 \n",
      " 3   education       48830 non-null  object\n",
      " 4   education-num   48830 non-null  int64 \n",
      " 5   marital-status  48830 non-null  object\n",
      " 6   occupation      46031 non-null  object\n",
      " 7   relationship    48830 non-null  object\n",
      " 8   race            48830 non-null  object\n",
      " 9   sex             48830 non-null  object\n",
      " 10  capital-gain    48830 non-null  int64 \n",
      " 11  capital-loss    48830 non-null  int64 \n",
      " 12  hours-per-week  48830 non-null  int64 \n",
      " 13  native-country  47973 non-null  object\n",
      " 14  income          48830 non-null  object\n",
      "dtypes: int64(6), object(9)\n",
      "memory usage: 6.0+ MB\n"
     ]
    }
   ],
   "source": [
    "combined_data = combined_data.drop(combined_data[(combined_data['workclass'].notna()) & (combined_data['occupation'].isna())].index)\n",
    "combined_data.reset_index(drop=True)\n",
    "combined_data.info()\n",
    "\n",
    "#I could do conditional imputation and predict the missing occupation based on workclass but it is only 10 rows of data which is about 0.02% of the data. The rest where occupation and workclass is NaN , it is good to leave them in a category called unknown as that could have some pattern. e.g May be  people with unknown jobs are likely to get less than 50k."
   ],
   "metadata": {
    "collapsed": false,
    "ExecuteTime": {
     "end_time": "2024-03-18T17:56:00.279900100Z",
     "start_time": "2024-03-18T17:55:59.129591600Z"
    }
   },
   "id": "8c1943502c2e8981"
  },
  {
   "cell_type": "code",
   "execution_count": 398,
   "outputs": [
    {
     "name": "stdout",
     "output_type": "stream",
     "text": [
      "<class 'pandas.core.frame.DataFrame'>\n",
      "Index: 48830 entries, 0 to 48839\n",
      "Data columns (total 15 columns):\n",
      " #   Column          Non-Null Count  Dtype \n",
      "---  ------          --------------  ----- \n",
      " 0   age             48830 non-null  int64 \n",
      " 1   workclass       48830 non-null  object\n",
      " 2   fnlwgt          48830 non-null  int64 \n",
      " 3   education       48830 non-null  object\n",
      " 4   education-num   48830 non-null  int64 \n",
      " 5   marital-status  48830 non-null  object\n",
      " 6   occupation      48830 non-null  object\n",
      " 7   relationship    48830 non-null  object\n",
      " 8   race            48830 non-null  object\n",
      " 9   sex             48830 non-null  object\n",
      " 10  capital-gain    48830 non-null  int64 \n",
      " 11  capital-loss    48830 non-null  int64 \n",
      " 12  hours-per-week  48830 non-null  int64 \n",
      " 13  native-country  47973 non-null  object\n",
      " 14  income          48830 non-null  object\n",
      "dtypes: int64(6), object(9)\n",
      "memory usage: 6.0+ MB\n"
     ]
    }
   ],
   "source": [
    "#all the rows where workclass and occupation are null gets replaced with unknown, the info confirms that they both go missin at the same time and they are related. \n",
    "combined_data.loc[(combined_data['workclass'].isna()) & (combined_data['occupation'].isna()), ['workclass', 'occupation']] = 'unknown'\n",
    "combined_data.info()"
   ],
   "metadata": {
    "collapsed": false,
    "ExecuteTime": {
     "end_time": "2024-03-18T17:56:00.358057200Z",
     "start_time": "2024-03-18T17:55:59.270382500Z"
    }
   },
   "id": "be74d4281a0ca240"
  },
  {
   "cell_type": "code",
   "execution_count": 399,
   "outputs": [
    {
     "data": {
      "text/plain": "2799"
     },
     "execution_count": 399,
     "metadata": {},
     "output_type": "execute_result"
    }
   ],
   "source": [
    "(combined_data['workclass']=='unknown').sum()"
   ],
   "metadata": {
    "collapsed": false,
    "ExecuteTime": {
     "end_time": "2024-03-18T17:56:00.420570900Z",
     "start_time": "2024-03-18T17:55:59.333251900Z"
    }
   },
   "id": "98d2b12fa7ce65ef"
  },
  {
   "cell_type": "code",
   "execution_count": 400,
   "outputs": [
    {
     "data": {
      "text/plain": "2799"
     },
     "execution_count": 400,
     "metadata": {},
     "output_type": "execute_result"
    }
   ],
   "source": [
    "(combined_data['occupation']=='unknown').sum()"
   ],
   "metadata": {
    "collapsed": false,
    "ExecuteTime": {
     "end_time": "2024-03-18T17:56:00.451833500Z",
     "start_time": "2024-03-18T17:55:59.364639800Z"
    }
   },
   "id": "767d5d573dde9c08"
  },
  {
   "cell_type": "code",
   "execution_count": 401,
   "outputs": [
    {
     "data": {
      "text/plain": "array(['united-states', 'cuba', 'jamaica', 'india', nan, 'mexico',\n       'south', 'puerto-rico', 'honduras', 'england', 'canada', 'germany',\n       'iran', 'philippines', 'italy', 'poland', 'columbia', 'cambodia',\n       'thailand', 'ecuador', 'laos', 'taiwan', 'haiti', 'portugal',\n       'dominican-republic', 'el-salvador', 'france', 'guatemala',\n       'china', 'japan', 'yugoslavia', 'peru',\n       'outlying-us(guam-usvi-etc)', 'scotland', 'trinadad&tobago',\n       'greece', 'nicaragua', 'vietnam', 'hong', 'ireland', 'hungary',\n       'holand-netherlands'], dtype=object)"
     },
     "execution_count": 401,
     "metadata": {},
     "output_type": "execute_result"
    }
   ],
   "source": [
    "combined_data['native-country'].unique()"
   ],
   "metadata": {
    "collapsed": false,
    "ExecuteTime": {
     "end_time": "2024-03-18T17:56:00.451833500Z",
     "start_time": "2024-03-18T17:55:59.380562700Z"
    }
   },
   "id": "ffcbb878f1247c27"
  },
  {
   "cell_type": "code",
   "execution_count": 402,
   "outputs": [],
   "source": [
    "grouped_data = combined_data.groupby(['race', 'age'])\n",
    "\n",
    "# Iterate over groups and impute missing values in 'native-country' column\n",
    "for group_name, group_data in grouped_data:\n",
    "    # Calculate mode of 'native-country' within the group\n",
    "    mode_native_country = group_data['native-country'].mode().iloc[0]\n",
    "    # Fill missing values with mode of the group\n",
    "    combined_data.loc[group_data.index, 'native-country'] = combined_data.loc[group_data.index, 'native-country'].fillna(mode_native_country)"
   ],
   "metadata": {
    "collapsed": false,
    "ExecuteTime": {
     "end_time": "2024-03-18T17:56:01.308303500Z",
     "start_time": "2024-03-18T17:55:59.396323400Z"
    }
   },
   "id": "e8aa772dffbb4f7e"
  },
  {
   "cell_type": "code",
   "execution_count": 403,
   "outputs": [
    {
     "data": {
      "text/plain": "array(['united-states', 'cuba', 'jamaica', 'india', 'china', 'mexico',\n       'south', 'puerto-rico', 'honduras', 'england', 'canada', 'germany',\n       'iran', 'philippines', 'italy', 'poland', 'columbia', 'cambodia',\n       'thailand', 'ecuador', 'laos', 'taiwan', 'haiti', 'portugal',\n       'dominican-republic', 'el-salvador', 'france', 'guatemala',\n       'japan', 'yugoslavia', 'peru', 'outlying-us(guam-usvi-etc)',\n       'scotland', 'trinadad&tobago', 'greece', 'nicaragua', 'vietnam',\n       'hong', 'ireland', 'hungary', 'holand-netherlands'], dtype=object)"
     },
     "execution_count": 403,
     "metadata": {},
     "output_type": "execute_result"
    }
   ],
   "source": [
    "combined_data['native-country'].unique()"
   ],
   "metadata": {
    "collapsed": false,
    "ExecuteTime": {
     "end_time": "2024-03-18T17:56:01.339689500Z",
     "start_time": "2024-03-18T17:56:01.292540800Z"
    }
   },
   "id": "fa26ab6082857af2"
  },
  {
   "cell_type": "code",
   "execution_count": 404,
   "outputs": [
    {
     "name": "stdout",
     "output_type": "stream",
     "text": [
      "<class 'pandas.core.frame.DataFrame'>\n",
      "Index: 48830 entries, 0 to 48839\n",
      "Data columns (total 15 columns):\n",
      " #   Column          Non-Null Count  Dtype \n",
      "---  ------          --------------  ----- \n",
      " 0   age             48830 non-null  int64 \n",
      " 1   workclass       48830 non-null  object\n",
      " 2   fnlwgt          48830 non-null  int64 \n",
      " 3   education       48830 non-null  object\n",
      " 4   education-num   48830 non-null  int64 \n",
      " 5   marital-status  48830 non-null  object\n",
      " 6   occupation      48830 non-null  object\n",
      " 7   relationship    48830 non-null  object\n",
      " 8   race            48830 non-null  object\n",
      " 9   sex             48830 non-null  object\n",
      " 10  capital-gain    48830 non-null  int64 \n",
      " 11  capital-loss    48830 non-null  int64 \n",
      " 12  hours-per-week  48830 non-null  int64 \n",
      " 13  native-country  48830 non-null  object\n",
      " 14  income          48830 non-null  object\n",
      "dtypes: int64(6), object(9)\n",
      "memory usage: 7.0+ MB\n"
     ]
    }
   ],
   "source": [
    "combined_data.info()"
   ],
   "metadata": {
    "collapsed": false,
    "ExecuteTime": {
     "end_time": "2024-03-18T17:56:01.447652500Z",
     "start_time": "2024-03-18T17:56:01.313035900Z"
    }
   },
   "id": "e4802d8d97647ce7"
  },
  {
   "cell_type": "code",
   "execution_count": 405,
   "outputs": [
    {
     "data": {
      "text/plain": "   age         workclass  education-num      marital-status  \\\n0   50  self-emp-not-inc             13  married-civ-spouse   \n1   38           private              9            divorced   \n2   53           private              7  married-civ-spouse   \n3   28           private             13  married-civ-spouse   \n4   37           private             14  married-civ-spouse   \n\n          occupation   relationship   race     sex  capital-gain  \\\n0    exec-managerial        husband  white    male             0   \n1  handlers-cleaners  not-in-family  white    male             0   \n2  handlers-cleaners        husband  black    male             0   \n3     prof-specialty           wife  black  female             0   \n4    exec-managerial           wife  white  female             0   \n\n   capital-loss  hours-per-week native-country income  \n0             0              13  united-states  <=50k  \n1             0              40  united-states  <=50k  \n2             0              40  united-states  <=50k  \n3             0              40           cuba  <=50k  \n4             0              40  united-states  <=50k  ",
      "text/html": "<div>\n<style scoped>\n    .dataframe tbody tr th:only-of-type {\n        vertical-align: middle;\n    }\n\n    .dataframe tbody tr th {\n        vertical-align: top;\n    }\n\n    .dataframe thead th {\n        text-align: right;\n    }\n</style>\n<table border=\"1\" class=\"dataframe\">\n  <thead>\n    <tr style=\"text-align: right;\">\n      <th></th>\n      <th>age</th>\n      <th>workclass</th>\n      <th>education-num</th>\n      <th>marital-status</th>\n      <th>occupation</th>\n      <th>relationship</th>\n      <th>race</th>\n      <th>sex</th>\n      <th>capital-gain</th>\n      <th>capital-loss</th>\n      <th>hours-per-week</th>\n      <th>native-country</th>\n      <th>income</th>\n    </tr>\n  </thead>\n  <tbody>\n    <tr>\n      <th>0</th>\n      <td>50</td>\n      <td>self-emp-not-inc</td>\n      <td>13</td>\n      <td>married-civ-spouse</td>\n      <td>exec-managerial</td>\n      <td>husband</td>\n      <td>white</td>\n      <td>male</td>\n      <td>0</td>\n      <td>0</td>\n      <td>13</td>\n      <td>united-states</td>\n      <td>&lt;=50k</td>\n    </tr>\n    <tr>\n      <th>1</th>\n      <td>38</td>\n      <td>private</td>\n      <td>9</td>\n      <td>divorced</td>\n      <td>handlers-cleaners</td>\n      <td>not-in-family</td>\n      <td>white</td>\n      <td>male</td>\n      <td>0</td>\n      <td>0</td>\n      <td>40</td>\n      <td>united-states</td>\n      <td>&lt;=50k</td>\n    </tr>\n    <tr>\n      <th>2</th>\n      <td>53</td>\n      <td>private</td>\n      <td>7</td>\n      <td>married-civ-spouse</td>\n      <td>handlers-cleaners</td>\n      <td>husband</td>\n      <td>black</td>\n      <td>male</td>\n      <td>0</td>\n      <td>0</td>\n      <td>40</td>\n      <td>united-states</td>\n      <td>&lt;=50k</td>\n    </tr>\n    <tr>\n      <th>3</th>\n      <td>28</td>\n      <td>private</td>\n      <td>13</td>\n      <td>married-civ-spouse</td>\n      <td>prof-specialty</td>\n      <td>wife</td>\n      <td>black</td>\n      <td>female</td>\n      <td>0</td>\n      <td>0</td>\n      <td>40</td>\n      <td>cuba</td>\n      <td>&lt;=50k</td>\n    </tr>\n    <tr>\n      <th>4</th>\n      <td>37</td>\n      <td>private</td>\n      <td>14</td>\n      <td>married-civ-spouse</td>\n      <td>exec-managerial</td>\n      <td>wife</td>\n      <td>white</td>\n      <td>female</td>\n      <td>0</td>\n      <td>0</td>\n      <td>40</td>\n      <td>united-states</td>\n      <td>&lt;=50k</td>\n    </tr>\n  </tbody>\n</table>\n</div>"
     },
     "execution_count": 405,
     "metadata": {},
     "output_type": "execute_result"
    }
   ],
   "source": [
    "combined_data.drop(columns=['education','fnlwgt'],axis=1, inplace=True) #education number is enough and fnlwgt but why?\n",
    "combined_data.head()"
   ],
   "metadata": {
    "collapsed": false,
    "ExecuteTime": {
     "end_time": "2024-03-18T17:56:01.463284100Z",
     "start_time": "2024-03-18T17:56:01.385062400Z"
    }
   },
   "id": "7d1168670bbd2944"
  },
  {
   "cell_type": "code",
   "execution_count": 406,
   "outputs": [
    {
     "data": {
      "text/plain": "       age  workclass  education-num  marital-status  occupation  \\\n576     36          4             12               0          11   \n43109   47          2              6               0          12   \n4673    62          4             10               2           3   \n328     66          2              9               4          13   \n46517   90          2             10               4           7   \n\n       relationship  race  sex  capital-gain  capital-loss  hours-per-week  \\\n576               4     4    0             0             0              35   \n43109             4     2    0             0             0              38   \n4673              0     4    1             0             0              10   \n328               1     4    1          2050             0              55   \n46517             3     4    1             0             0              10   \n\n       native-country  income  \n576                38       0  \n43109              38       0  \n4673               38       0  \n328                38       0  \n46517              38       0  ",
      "text/html": "<div>\n<style scoped>\n    .dataframe tbody tr th:only-of-type {\n        vertical-align: middle;\n    }\n\n    .dataframe tbody tr th {\n        vertical-align: top;\n    }\n\n    .dataframe thead th {\n        text-align: right;\n    }\n</style>\n<table border=\"1\" class=\"dataframe\">\n  <thead>\n    <tr style=\"text-align: right;\">\n      <th></th>\n      <th>age</th>\n      <th>workclass</th>\n      <th>education-num</th>\n      <th>marital-status</th>\n      <th>occupation</th>\n      <th>relationship</th>\n      <th>race</th>\n      <th>sex</th>\n      <th>capital-gain</th>\n      <th>capital-loss</th>\n      <th>hours-per-week</th>\n      <th>native-country</th>\n      <th>income</th>\n    </tr>\n  </thead>\n  <tbody>\n    <tr>\n      <th>576</th>\n      <td>36</td>\n      <td>4</td>\n      <td>12</td>\n      <td>0</td>\n      <td>11</td>\n      <td>4</td>\n      <td>4</td>\n      <td>0</td>\n      <td>0</td>\n      <td>0</td>\n      <td>35</td>\n      <td>38</td>\n      <td>0</td>\n    </tr>\n    <tr>\n      <th>43109</th>\n      <td>47</td>\n      <td>2</td>\n      <td>6</td>\n      <td>0</td>\n      <td>12</td>\n      <td>4</td>\n      <td>2</td>\n      <td>0</td>\n      <td>0</td>\n      <td>0</td>\n      <td>38</td>\n      <td>38</td>\n      <td>0</td>\n    </tr>\n    <tr>\n      <th>4673</th>\n      <td>62</td>\n      <td>4</td>\n      <td>10</td>\n      <td>2</td>\n      <td>3</td>\n      <td>0</td>\n      <td>4</td>\n      <td>1</td>\n      <td>0</td>\n      <td>0</td>\n      <td>10</td>\n      <td>38</td>\n      <td>0</td>\n    </tr>\n    <tr>\n      <th>328</th>\n      <td>66</td>\n      <td>2</td>\n      <td>9</td>\n      <td>4</td>\n      <td>13</td>\n      <td>1</td>\n      <td>4</td>\n      <td>1</td>\n      <td>2050</td>\n      <td>0</td>\n      <td>55</td>\n      <td>38</td>\n      <td>0</td>\n    </tr>\n    <tr>\n      <th>46517</th>\n      <td>90</td>\n      <td>2</td>\n      <td>10</td>\n      <td>4</td>\n      <td>7</td>\n      <td>3</td>\n      <td>4</td>\n      <td>1</td>\n      <td>0</td>\n      <td>0</td>\n      <td>10</td>\n      <td>38</td>\n      <td>0</td>\n    </tr>\n  </tbody>\n</table>\n</div>"
     },
     "execution_count": 406,
     "metadata": {},
     "output_type": "execute_result"
    }
   ],
   "source": [
    "from sklearn.preprocessing import LabelEncoder\n",
    "le = LabelEncoder()\n",
    "combined_data['income'] = le.fit_transform(combined_data['income'])\n",
    "combined_data['native-country'] = le.fit_transform(combined_data['native-country'])\n",
    "combined_data['sex'] = le.fit_transform(combined_data['sex'])\n",
    "combined_data['race'] = le.fit_transform(combined_data['race'])\n",
    "combined_data['relationship'] = le.fit_transform(combined_data['relationship'])\n",
    "combined_data['occupation'] = le.fit_transform(combined_data['occupation'])\n",
    "combined_data['marital-status'] = le.fit_transform(combined_data['marital-status'])\n",
    "combined_data['workclass'] = le.fit_transform(combined_data['workclass'])\n",
    "combined_data.sample(5)"
   ],
   "metadata": {
    "collapsed": false,
    "ExecuteTime": {
     "end_time": "2024-03-18T17:56:01.698091100Z",
     "start_time": "2024-03-18T17:56:01.424002500Z"
    }
   },
   "id": "c6595276203aab8a"
  },
  {
   "cell_type": "code",
   "execution_count": 408,
   "outputs": [
    {
     "data": {
      "text/plain": "<Axes: >"
     },
     "execution_count": 408,
     "metadata": {},
     "output_type": "execute_result"
    },
    {
     "data": {
      "text/plain": "<Figure size 640x480 with 2 Axes>",
      "image/png": "[encoded data removed]"
     },
     "metadata": {},
     "output_type": "display_data"
    }
   ],
   "source": [
    "#but is there a way to find which ones really influence the prediction the most? wht abt heatmap?\n",
    "import seaborn as sns\n",
    "sns.heatmap(combined_data.corr())\n",
    "#the darker colour means higher correlation, therefore there is strong correletion between education-num and income "
   ],
   "metadata": {
    "collapsed": false,
    "ExecuteTime": {
     "end_time": "2024-03-18T18:02:43.279650800Z",
     "start_time": "2024-03-18T18:02:41.007565100Z"
    }
   },
   "id": "b259e4c0dfa8f4a6"
  },
  {
   "cell_type": "code",
   "execution_count": 409,
   "outputs": [],
   "source": [
    "x = combined_data.drop(columns=['income'], axis=1)\n",
    "y = combined_data['income']"
   ],
   "metadata": {
    "collapsed": false,
    "ExecuteTime": {
     "end_time": "2024-03-18T18:14:52.167747100Z",
     "start_time": "2024-03-18T18:14:52.152026500Z"
    }
   },
   "id": "2e62b6e36573d062"
  },
  {
   "cell_type": "code",
   "execution_count": 410,
   "outputs": [],
   "source": [
    "from sklearn.model_selection import train_test_split\n",
    "x_train, x_test, y_train, y_test = train_test_split(x, y, test_size=0.2) #Splitting the dataset into training and testing set"
   ],
   "metadata": {
    "collapsed": false,
    "ExecuteTime": {
     "end_time": "2024-03-18T18:14:52.970433500Z",
     "start_time": "2024-03-18T18:14:52.860979700Z"
    }
   },
   "id": "6f197644bf055669"
  },
  {
   "cell_type": "code",
   "execution_count": null,
   "outputs": [],
   "source": [],
   "metadata": {
    "collapsed": false
   },
   "id": "842751b58f39b7f0"
  }
 ],
 "metadata": {
  "kernelspec": {
   "display_name": "Python 3",
   "language": "python",
   "name": "python3"
  },
  "language_info": {
   "codemirror_mode": {
    "name": "ipython",
    "version": 2
   },
   "file_extension": ".py",
   "mimetype": "text/x-python",
   "name": "python",
   "nbconvert_exporter": "python",
   "pygments_lexer": "ipython2",
   "version": "2.7.6"
  }
 },
 "nbformat": 4,
 "nbformat_minor": 5
}
