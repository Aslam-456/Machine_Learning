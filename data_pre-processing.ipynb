{
 "cells": [
  {
   "cell_type": "markdown",
   "source": [
    "**<big>Data Preprocessing</big>**"
   ],
   "metadata": {
    "collapsed": false
   },
   "id": "7a270818eac8e2a8"
  },
  {
   "cell_type": "markdown",
   "source": [
    "**<big>Importing the dataset</big>**\n",
    "\n",
    "The dataset came in two parts, training and testing. Both the files did not have the column headers, so it was taken from the website and added. Finally, they were combined to avoid repetition in the cleaning process and to have a control over the train and test size.  "
   ],
   "metadata": {
    "collapsed": false
   },
   "id": "4919f8c8195e1d38"
  },
  {
   "cell_type": "code",
   "execution_count": 986,
   "id": "initial_id",
   "metadata": {
    "collapsed": true,
    "ExecuteTime": {
     "end_time": "2024-03-29T23:21:12.443954500Z",
     "start_time": "2024-03-29T23:21:11.704478800Z"
    }
   },
   "outputs": [],
   "source": [
    "import numpy as np\n",
    "import pandas as pd\n",
    "test_data = pd.read_csv('datasets/adult.test',skiprows=1) #the first line in the dataset is empty space, so I skip it \n",
    "train_data = pd.read_csv('datasets/adult.data',)\n",
    "index_data = pd.read_csv('datasets/Index')"
   ]
  },
  {
   "cell_type": "code",
   "execution_count": 987,
   "outputs": [
    {
     "data": {
      "text/plain": "(32560, 15)"
     },
     "execution_count": 987,
     "metadata": {},
     "output_type": "execute_result"
    }
   ],
   "source": [
    "train_data.shape #looking at the number of rows and columns"
   ],
   "metadata": {
    "collapsed": false,
    "ExecuteTime": {
     "end_time": "2024-03-29T23:21:12.464323800Z",
     "start_time": "2024-03-29T23:21:11.809316500Z"
    }
   },
   "id": "902addcb24ee5686"
  },
  {
   "cell_type": "code",
   "execution_count": 988,
   "outputs": [
    {
     "data": {
      "text/plain": "   39          State-gov   77516   Bachelors   13        Never-married  \\\n0  50   Self-emp-not-inc   83311   Bachelors   13   Married-civ-spouse   \n1  38            Private  215646     HS-grad    9             Divorced   \n2  53            Private  234721        11th    7   Married-civ-spouse   \n3  28            Private  338409   Bachelors   13   Married-civ-spouse   \n4  37            Private  284582     Masters   14   Married-civ-spouse   \n\n         Adm-clerical   Not-in-family   White     Male   2174   0   40  \\\n0     Exec-managerial         Husband   White     Male      0   0   13   \n1   Handlers-cleaners   Not-in-family   White     Male      0   0   40   \n2   Handlers-cleaners         Husband   Black     Male      0   0   40   \n3      Prof-specialty            Wife   Black   Female      0   0   40   \n4     Exec-managerial            Wife   White   Female      0   0   40   \n\n    United-States   <=50K  \n0   United-States   <=50K  \n1   United-States   <=50K  \n2   United-States   <=50K  \n3            Cuba   <=50K  \n4   United-States   <=50K  ",
      "text/html": "<div>\n<style scoped>\n    .dataframe tbody tr th:only-of-type {\n        vertical-align: middle;\n    }\n\n    .dataframe tbody tr th {\n        vertical-align: top;\n    }\n\n    .dataframe thead th {\n        text-align: right;\n    }\n</style>\n<table border=\"1\" class=\"dataframe\">\n  <thead>\n    <tr style=\"text-align: right;\">\n      <th></th>\n      <th>39</th>\n      <th>State-gov</th>\n      <th>77516</th>\n      <th>Bachelors</th>\n      <th>13</th>\n      <th>Never-married</th>\n      <th>Adm-clerical</th>\n      <th>Not-in-family</th>\n      <th>White</th>\n      <th>Male</th>\n      <th>2174</th>\n      <th>0</th>\n      <th>40</th>\n      <th>United-States</th>\n      <th>&lt;=50K</th>\n    </tr>\n  </thead>\n  <tbody>\n    <tr>\n      <th>0</th>\n      <td>50</td>\n      <td>Self-emp-not-inc</td>\n      <td>83311</td>\n      <td>Bachelors</td>\n      <td>13</td>\n      <td>Married-civ-spouse</td>\n      <td>Exec-managerial</td>\n      <td>Husband</td>\n      <td>White</td>\n      <td>Male</td>\n      <td>0</td>\n      <td>0</td>\n      <td>13</td>\n      <td>United-States</td>\n      <td>&lt;=50K</td>\n    </tr>\n    <tr>\n      <th>1</th>\n      <td>38</td>\n      <td>Private</td>\n      <td>215646</td>\n      <td>HS-grad</td>\n      <td>9</td>\n      <td>Divorced</td>\n      <td>Handlers-cleaners</td>\n      <td>Not-in-family</td>\n      <td>White</td>\n      <td>Male</td>\n      <td>0</td>\n      <td>0</td>\n      <td>40</td>\n      <td>United-States</td>\n      <td>&lt;=50K</td>\n    </tr>\n    <tr>\n      <th>2</th>\n      <td>53</td>\n      <td>Private</td>\n      <td>234721</td>\n      <td>11th</td>\n      <td>7</td>\n      <td>Married-civ-spouse</td>\n      <td>Handlers-cleaners</td>\n      <td>Husband</td>\n      <td>Black</td>\n      <td>Male</td>\n      <td>0</td>\n      <td>0</td>\n      <td>40</td>\n      <td>United-States</td>\n      <td>&lt;=50K</td>\n    </tr>\n    <tr>\n      <th>3</th>\n      <td>28</td>\n      <td>Private</td>\n      <td>338409</td>\n      <td>Bachelors</td>\n      <td>13</td>\n      <td>Married-civ-spouse</td>\n      <td>Prof-specialty</td>\n      <td>Wife</td>\n      <td>Black</td>\n      <td>Female</td>\n      <td>0</td>\n      <td>0</td>\n      <td>40</td>\n      <td>Cuba</td>\n      <td>&lt;=50K</td>\n    </tr>\n    <tr>\n      <th>4</th>\n      <td>37</td>\n      <td>Private</td>\n      <td>284582</td>\n      <td>Masters</td>\n      <td>14</td>\n      <td>Married-civ-spouse</td>\n      <td>Exec-managerial</td>\n      <td>Wife</td>\n      <td>White</td>\n      <td>Female</td>\n      <td>0</td>\n      <td>0</td>\n      <td>40</td>\n      <td>United-States</td>\n      <td>&lt;=50K</td>\n    </tr>\n  </tbody>\n</table>\n</div>"
     },
     "execution_count": 988,
     "metadata": {},
     "output_type": "execute_result"
    }
   ],
   "source": [
    "train_data.head() # getting a look at the actual data"
   ],
   "metadata": {
    "collapsed": false,
    "ExecuteTime": {
     "end_time": "2024-03-29T23:21:12.464323800Z",
     "start_time": "2024-03-29T23:21:11.816741400Z"
    }
   },
   "id": "7268892a9dc5dc51"
  },
  {
   "cell_type": "code",
   "execution_count": 989,
   "outputs": [
    {
     "data": {
      "text/plain": "(16280, 15)"
     },
     "execution_count": 989,
     "metadata": {},
     "output_type": "execute_result"
    }
   ],
   "source": [
    "test_data.shape #looking at the number of rows and columns"
   ],
   "metadata": {
    "collapsed": false,
    "ExecuteTime": {
     "end_time": "2024-03-29T23:21:12.464323800Z",
     "start_time": "2024-03-29T23:21:11.837977900Z"
    }
   },
   "id": "b806bec1be40c0c2"
  },
  {
   "cell_type": "code",
   "execution_count": 990,
   "outputs": [
    {
     "data": {
      "text/plain": "   25     Private   226802           11th   7        Never-married  \\\n0  38     Private    89814        HS-grad   9   Married-civ-spouse   \n1  28   Local-gov   336951     Assoc-acdm  12   Married-civ-spouse   \n2  44     Private   160323   Some-college  10   Married-civ-spouse   \n3  18           ?   103497   Some-college  10        Never-married   \n4  34     Private   198693           10th   6        Never-married   \n\n    Machine-op-inspct       Own-child   Black     Male     0   0.1   40  \\\n0     Farming-fishing         Husband   White     Male     0     0   50   \n1     Protective-serv         Husband   White     Male     0     0   40   \n2   Machine-op-inspct         Husband   Black     Male  7688     0   40   \n3                   ?       Own-child   White   Female     0     0   30   \n4       Other-service   Not-in-family   White     Male     0     0   30   \n\n    United-States   <=50K.  \n0   United-States   <=50K.  \n1   United-States    >50K.  \n2   United-States    >50K.  \n3   United-States   <=50K.  \n4   United-States   <=50K.  ",
      "text/html": "<div>\n<style scoped>\n    .dataframe tbody tr th:only-of-type {\n        vertical-align: middle;\n    }\n\n    .dataframe tbody tr th {\n        vertical-align: top;\n    }\n\n    .dataframe thead th {\n        text-align: right;\n    }\n</style>\n<table border=\"1\" class=\"dataframe\">\n  <thead>\n    <tr style=\"text-align: right;\">\n      <th></th>\n      <th>25</th>\n      <th>Private</th>\n      <th>226802</th>\n      <th>11th</th>\n      <th>7</th>\n      <th>Never-married</th>\n      <th>Machine-op-inspct</th>\n      <th>Own-child</th>\n      <th>Black</th>\n      <th>Male</th>\n      <th>0</th>\n      <th>0.1</th>\n      <th>40</th>\n      <th>United-States</th>\n      <th>&lt;=50K.</th>\n    </tr>\n  </thead>\n  <tbody>\n    <tr>\n      <th>0</th>\n      <td>38</td>\n      <td>Private</td>\n      <td>89814</td>\n      <td>HS-grad</td>\n      <td>9</td>\n      <td>Married-civ-spouse</td>\n      <td>Farming-fishing</td>\n      <td>Husband</td>\n      <td>White</td>\n      <td>Male</td>\n      <td>0</td>\n      <td>0</td>\n      <td>50</td>\n      <td>United-States</td>\n      <td>&lt;=50K.</td>\n    </tr>\n    <tr>\n      <th>1</th>\n      <td>28</td>\n      <td>Local-gov</td>\n      <td>336951</td>\n      <td>Assoc-acdm</td>\n      <td>12</td>\n      <td>Married-civ-spouse</td>\n      <td>Protective-serv</td>\n      <td>Husband</td>\n      <td>White</td>\n      <td>Male</td>\n      <td>0</td>\n      <td>0</td>\n      <td>40</td>\n      <td>United-States</td>\n      <td>&gt;50K.</td>\n    </tr>\n    <tr>\n      <th>2</th>\n      <td>44</td>\n      <td>Private</td>\n      <td>160323</td>\n      <td>Some-college</td>\n      <td>10</td>\n      <td>Married-civ-spouse</td>\n      <td>Machine-op-inspct</td>\n      <td>Husband</td>\n      <td>Black</td>\n      <td>Male</td>\n      <td>7688</td>\n      <td>0</td>\n      <td>40</td>\n      <td>United-States</td>\n      <td>&gt;50K.</td>\n    </tr>\n    <tr>\n      <th>3</th>\n      <td>18</td>\n      <td>?</td>\n      <td>103497</td>\n      <td>Some-college</td>\n      <td>10</td>\n      <td>Never-married</td>\n      <td>?</td>\n      <td>Own-child</td>\n      <td>White</td>\n      <td>Female</td>\n      <td>0</td>\n      <td>0</td>\n      <td>30</td>\n      <td>United-States</td>\n      <td>&lt;=50K.</td>\n    </tr>\n    <tr>\n      <th>4</th>\n      <td>34</td>\n      <td>Private</td>\n      <td>198693</td>\n      <td>10th</td>\n      <td>6</td>\n      <td>Never-married</td>\n      <td>Other-service</td>\n      <td>Not-in-family</td>\n      <td>White</td>\n      <td>Male</td>\n      <td>0</td>\n      <td>0</td>\n      <td>30</td>\n      <td>United-States</td>\n      <td>&lt;=50K.</td>\n    </tr>\n  </tbody>\n</table>\n</div>"
     },
     "execution_count": 990,
     "metadata": {},
     "output_type": "execute_result"
    }
   ],
   "source": [
    "test_data.head()# getting a look at the actual data"
   ],
   "metadata": {
    "collapsed": false,
    "ExecuteTime": {
     "end_time": "2024-03-29T23:21:12.464323800Z",
     "start_time": "2024-03-29T23:21:11.848435400Z"
    }
   },
   "id": "dda004aa85c19964"
  },
  {
   "cell_type": "code",
   "execution_count": 991,
   "outputs": [],
   "source": [
    "column_headers = ['age','workclass','fnlwgt','education','education-num','marital-status','occupation','relationship','race','sex','capital-gain','capital-loss','hours-per-week','native-country','income']\n",
    "train_data.columns = column_headers\n",
    "test_data.columns = column_headers"
   ],
   "metadata": {
    "collapsed": false,
    "ExecuteTime": {
     "end_time": "2024-03-29T23:21:12.464323800Z",
     "start_time": "2024-03-29T23:21:11.868862200Z"
    }
   },
   "id": "3c267b2c4cde1e0b"
  },
  {
   "cell_type": "code",
   "execution_count": 992,
   "outputs": [
    {
     "data": {
      "text/plain": "       age workclass  fnlwgt      education  education-num  marital-status  \\\n32164   51   Private  172493   Some-college             10   Never-married   \n\n             occupation    relationship    race      sex  capital-gain  \\\n32164   Exec-managerial   Not-in-family   White   Female             0   \n\n       capital-loss  hours-per-week  native-country  income  \n32164             0              12   United-States   <=50K  ",
      "text/html": "<div>\n<style scoped>\n    .dataframe tbody tr th:only-of-type {\n        vertical-align: middle;\n    }\n\n    .dataframe tbody tr th {\n        vertical-align: top;\n    }\n\n    .dataframe thead th {\n        text-align: right;\n    }\n</style>\n<table border=\"1\" class=\"dataframe\">\n  <thead>\n    <tr style=\"text-align: right;\">\n      <th></th>\n      <th>age</th>\n      <th>workclass</th>\n      <th>fnlwgt</th>\n      <th>education</th>\n      <th>education-num</th>\n      <th>marital-status</th>\n      <th>occupation</th>\n      <th>relationship</th>\n      <th>race</th>\n      <th>sex</th>\n      <th>capital-gain</th>\n      <th>capital-loss</th>\n      <th>hours-per-week</th>\n      <th>native-country</th>\n      <th>income</th>\n    </tr>\n  </thead>\n  <tbody>\n    <tr>\n      <th>32164</th>\n      <td>51</td>\n      <td>Private</td>\n      <td>172493</td>\n      <td>Some-college</td>\n      <td>10</td>\n      <td>Never-married</td>\n      <td>Exec-managerial</td>\n      <td>Not-in-family</td>\n      <td>White</td>\n      <td>Female</td>\n      <td>0</td>\n      <td>0</td>\n      <td>12</td>\n      <td>United-States</td>\n      <td>&lt;=50K</td>\n    </tr>\n  </tbody>\n</table>\n</div>"
     },
     "execution_count": 992,
     "metadata": {},
     "output_type": "execute_result"
    }
   ],
   "source": [
    "train_data.sample() # a simple check on whether the column names were successfully added"
   ],
   "metadata": {
    "collapsed": false,
    "ExecuteTime": {
     "end_time": "2024-03-29T23:21:12.464323800Z",
     "start_time": "2024-03-29T23:21:11.881367700Z"
    }
   },
   "id": "840e3c29d385c47a"
  },
  {
   "cell_type": "code",
   "execution_count": 993,
   "outputs": [
    {
     "data": {
      "text/plain": "24"
     },
     "execution_count": 993,
     "metadata": {},
     "output_type": "execute_result"
    }
   ],
   "source": [
    "train_data.duplicated().sum()"
   ],
   "metadata": {
    "collapsed": false,
    "ExecuteTime": {
     "end_time": "2024-03-29T23:21:12.464323800Z",
     "start_time": "2024-03-29T23:21:11.897131400Z"
    }
   },
   "id": "efe5af881733e979"
  },
  {
   "cell_type": "code",
   "execution_count": 994,
   "outputs": [
    {
     "name": "stdout",
     "output_type": "stream",
     "text": [
      "<class 'pandas.core.frame.DataFrame'>\n",
      "RangeIndex: 48840 entries, 0 to 48839\n",
      "Data columns (total 15 columns):\n",
      " #   Column          Non-Null Count  Dtype \n",
      "---  ------          --------------  ----- \n",
      " 0   age             48840 non-null  int64 \n",
      " 1   workclass       48840 non-null  object\n",
      " 2   fnlwgt          48840 non-null  int64 \n",
      " 3   education       48840 non-null  object\n",
      " 4   education-num   48840 non-null  int64 \n",
      " 5   marital-status  48840 non-null  object\n",
      " 6   occupation      48840 non-null  object\n",
      " 7   relationship    48840 non-null  object\n",
      " 8   race            48840 non-null  object\n",
      " 9   sex             48840 non-null  object\n",
      " 10  capital-gain    48840 non-null  int64 \n",
      " 11  capital-loss    48840 non-null  int64 \n",
      " 12  hours-per-week  48840 non-null  int64 \n",
      " 13  native-country  48840 non-null  object\n",
      " 14  income          48840 non-null  object\n",
      "dtypes: int64(6), object(9)\n",
      "memory usage: 5.6+ MB\n"
     ]
    }
   ],
   "source": [
    "combined_data = pd.concat([train_data, test_data], axis=0, ignore_index=True) #ignore index true resets the index\n",
    "combined_data.info()"
   ],
   "metadata": {
    "collapsed": false,
    "ExecuteTime": {
     "end_time": "2024-03-29T23:21:12.464323800Z",
     "start_time": "2024-03-29T23:21:11.926609500Z"
    }
   },
   "id": "bb209b96875e062a"
  },
  {
   "cell_type": "code",
   "execution_count": 995,
   "outputs": [
    {
     "data": {
      "text/plain": "       age         workclass  fnlwgt  education  education-num  \\\n0       50  self-emp-not-inc   83311  bachelors             13   \n1       38           private  215646    hs-grad              9   \n2       53           private  234721       11th              7   \n3       28           private  338409  bachelors             13   \n4       37           private  284582    masters             14   \n...    ...               ...     ...        ...            ...   \n48835   39           private  215419  bachelors             13   \n48836   64                 ?  321403    hs-grad              9   \n48837   38           private  374983  bachelors             13   \n48838   44           private   83891  bachelors             13   \n48839   35      self-emp-inc  182148  bachelors             13   \n\n           marital-status         occupation    relationship  \\\n0      married-civ-spouse    exec-managerial         husband   \n1                divorced  handlers-cleaners   not-in-family   \n2      married-civ-spouse  handlers-cleaners         husband   \n3      married-civ-spouse     prof-specialty            wife   \n4      married-civ-spouse    exec-managerial            wife   \n...                   ...                ...             ...   \n48835            divorced     prof-specialty   not-in-family   \n48836             widowed                  ?  other-relative   \n48837  married-civ-spouse     prof-specialty         husband   \n48838            divorced       adm-clerical       own-child   \n48839  married-civ-spouse    exec-managerial         husband   \n\n                     race     sex  capital-gain  capital-loss  hours-per-week  \\\n0                   white    male             0             0              13   \n1                   white    male             0             0              40   \n2                   black    male             0             0              40   \n3                   black  female             0             0              40   \n4                   white  female             0             0              40   \n...                   ...     ...           ...           ...             ...   \n48835               white  female             0             0              36   \n48836               black    male             0             0              40   \n48837               white    male             0             0              50   \n48838  asian-pac-islander    male          5455             0              40   \n48839               white    male             0             0              60   \n\n      native-country  income  \n0      united-states   <=50k  \n1      united-states   <=50k  \n2      united-states   <=50k  \n3               cuba   <=50k  \n4      united-states   <=50k  \n...              ...     ...  \n48835  united-states  <=50k.  \n48836  united-states  <=50k.  \n48837  united-states  <=50k.  \n48838  united-states  <=50k.  \n48839  united-states   >50k.  \n\n[48840 rows x 15 columns]",
      "text/html": "<div>\n<style scoped>\n    .dataframe tbody tr th:only-of-type {\n        vertical-align: middle;\n    }\n\n    .dataframe tbody tr th {\n        vertical-align: top;\n    }\n\n    .dataframe thead th {\n        text-align: right;\n    }\n</style>\n<table border=\"1\" class=\"dataframe\">\n  <thead>\n    <tr style=\"text-align: right;\">\n      <th></th>\n      <th>age</th>\n      <th>workclass</th>\n      <th>fnlwgt</th>\n      <th>education</th>\n      <th>education-num</th>\n      <th>marital-status</th>\n      <th>occupation</th>\n      <th>relationship</th>\n      <th>race</th>\n      <th>sex</th>\n      <th>capital-gain</th>\n      <th>capital-loss</th>\n      <th>hours-per-week</th>\n      <th>native-country</th>\n      <th>income</th>\n    </tr>\n  </thead>\n  <tbody>\n    <tr>\n      <th>0</th>\n      <td>50</td>\n      <td>self-emp-not-inc</td>\n      <td>83311</td>\n      <td>bachelors</td>\n      <td>13</td>\n      <td>married-civ-spouse</td>\n      <td>exec-managerial</td>\n      <td>husband</td>\n      <td>white</td>\n      <td>male</td>\n      <td>0</td>\n      <td>0</td>\n      <td>13</td>\n      <td>united-states</td>\n      <td>&lt;=50k</td>\n    </tr>\n    <tr>\n      <th>1</th>\n      <td>38</td>\n      <td>private</td>\n      <td>215646</td>\n      <td>hs-grad</td>\n      <td>9</td>\n      <td>divorced</td>\n      <td>handlers-cleaners</td>\n      <td>not-in-family</td>\n      <td>white</td>\n      <td>male</td>\n      <td>0</td>\n      <td>0</td>\n      <td>40</td>\n      <td>united-states</td>\n      <td>&lt;=50k</td>\n    </tr>\n    <tr>\n      <th>2</th>\n      <td>53</td>\n      <td>private</td>\n      <td>234721</td>\n      <td>11th</td>\n      <td>7</td>\n      <td>married-civ-spouse</td>\n      <td>handlers-cleaners</td>\n      <td>husband</td>\n      <td>black</td>\n      <td>male</td>\n      <td>0</td>\n      <td>0</td>\n      <td>40</td>\n      <td>united-states</td>\n      <td>&lt;=50k</td>\n    </tr>\n    <tr>\n      <th>3</th>\n      <td>28</td>\n      <td>private</td>\n      <td>338409</td>\n      <td>bachelors</td>\n      <td>13</td>\n      <td>married-civ-spouse</td>\n      <td>prof-specialty</td>\n      <td>wife</td>\n      <td>black</td>\n      <td>female</td>\n      <td>0</td>\n      <td>0</td>\n      <td>40</td>\n      <td>cuba</td>\n      <td>&lt;=50k</td>\n    </tr>\n    <tr>\n      <th>4</th>\n      <td>37</td>\n      <td>private</td>\n      <td>284582</td>\n      <td>masters</td>\n      <td>14</td>\n      <td>married-civ-spouse</td>\n      <td>exec-managerial</td>\n      <td>wife</td>\n      <td>white</td>\n      <td>female</td>\n      <td>0</td>\n      <td>0</td>\n      <td>40</td>\n      <td>united-states</td>\n      <td>&lt;=50k</td>\n    </tr>\n    <tr>\n      <th>...</th>\n      <td>...</td>\n      <td>...</td>\n      <td>...</td>\n      <td>...</td>\n      <td>...</td>\n      <td>...</td>\n      <td>...</td>\n      <td>...</td>\n      <td>...</td>\n      <td>...</td>\n      <td>...</td>\n      <td>...</td>\n      <td>...</td>\n      <td>...</td>\n      <td>...</td>\n    </tr>\n    <tr>\n      <th>48835</th>\n      <td>39</td>\n      <td>private</td>\n      <td>215419</td>\n      <td>bachelors</td>\n      <td>13</td>\n      <td>divorced</td>\n      <td>prof-specialty</td>\n      <td>not-in-family</td>\n      <td>white</td>\n      <td>female</td>\n      <td>0</td>\n      <td>0</td>\n      <td>36</td>\n      <td>united-states</td>\n      <td>&lt;=50k.</td>\n    </tr>\n    <tr>\n      <th>48836</th>\n      <td>64</td>\n      <td>?</td>\n      <td>321403</td>\n      <td>hs-grad</td>\n      <td>9</td>\n      <td>widowed</td>\n      <td>?</td>\n      <td>other-relative</td>\n      <td>black</td>\n      <td>male</td>\n      <td>0</td>\n      <td>0</td>\n      <td>40</td>\n      <td>united-states</td>\n      <td>&lt;=50k.</td>\n    </tr>\n    <tr>\n      <th>48837</th>\n      <td>38</td>\n      <td>private</td>\n      <td>374983</td>\n      <td>bachelors</td>\n      <td>13</td>\n      <td>married-civ-spouse</td>\n      <td>prof-specialty</td>\n      <td>husband</td>\n      <td>white</td>\n      <td>male</td>\n      <td>0</td>\n      <td>0</td>\n      <td>50</td>\n      <td>united-states</td>\n      <td>&lt;=50k.</td>\n    </tr>\n    <tr>\n      <th>48838</th>\n      <td>44</td>\n      <td>private</td>\n      <td>83891</td>\n      <td>bachelors</td>\n      <td>13</td>\n      <td>divorced</td>\n      <td>adm-clerical</td>\n      <td>own-child</td>\n      <td>asian-pac-islander</td>\n      <td>male</td>\n      <td>5455</td>\n      <td>0</td>\n      <td>40</td>\n      <td>united-states</td>\n      <td>&lt;=50k.</td>\n    </tr>\n    <tr>\n      <th>48839</th>\n      <td>35</td>\n      <td>self-emp-inc</td>\n      <td>182148</td>\n      <td>bachelors</td>\n      <td>13</td>\n      <td>married-civ-spouse</td>\n      <td>exec-managerial</td>\n      <td>husband</td>\n      <td>white</td>\n      <td>male</td>\n      <td>0</td>\n      <td>0</td>\n      <td>60</td>\n      <td>united-states</td>\n      <td>&gt;50k.</td>\n    </tr>\n  </tbody>\n</table>\n<p>48840 rows × 15 columns</p>\n</div>"
     },
     "execution_count": 995,
     "metadata": {},
     "output_type": "execute_result"
    }
   ],
   "source": [
    "#standardising the text based data in each column\n",
    "combined_data['workclass'] = combined_data['workclass'].str.lower().str.strip() \n",
    "combined_data['education'] = combined_data['education'].str.lower().str.strip()\n",
    "combined_data['marital-status'] = combined_data['marital-status'].str.lower().str.strip()\n",
    "combined_data['occupation'] = combined_data['occupation'].str.lower().str.strip()\n",
    "combined_data['relationship'] = combined_data['relationship'].str.lower().str.strip()\n",
    "combined_data['race'] = combined_data['race'].str.lower().str.strip()\n",
    "combined_data['sex'] = combined_data['sex'].str.lower().str.strip()\n",
    "combined_data['native-country'] = combined_data['native-country'].str.lower().str.strip()\n",
    "combined_data['income'] = combined_data['income'].str.lower().str.strip()\n",
    "combined_data"
   ],
   "metadata": {
    "collapsed": false,
    "ExecuteTime": {
     "end_time": "2024-03-29T23:21:12.464323800Z",
     "start_time": "2024-03-29T23:21:11.956935900Z"
    }
   },
   "id": "35b952fa1f527ad5"
  },
  {
   "cell_type": "code",
   "execution_count": 996,
   "outputs": [
    {
     "data": {
      "text/plain": "29"
     },
     "execution_count": 996,
     "metadata": {},
     "output_type": "execute_result"
    }
   ],
   "source": [
    "combined_data.duplicated().sum()"
   ],
   "metadata": {
    "collapsed": false,
    "ExecuteTime": {
     "end_time": "2024-03-29T23:21:12.464323800Z",
     "start_time": "2024-03-29T23:21:12.151984Z"
    }
   },
   "id": "ba1f395b2fa482b2"
  },
  {
   "cell_type": "code",
   "execution_count": 997,
   "outputs": [
    {
     "data": {
      "text/plain": "                  count           mean            std      min       25%  \\\nage             48840.0      38.643857      13.710652     17.0      28.0   \nfnlwgt          48840.0  189665.670434  105604.834700  12285.0  117553.5   \neducation-num   48840.0      10.078092       2.570954      1.0       9.0   \ncapital-gain    48840.0    1079.067301    7452.168393      0.0       0.0   \ncapital-loss    48840.0      87.505897     403.012415      0.0       0.0   \nhours-per-week  48840.0      40.422400      12.391697      1.0      40.0   \n\n                     50%        75%        max  \nage                 37.0      48.00       90.0  \nfnlwgt          178144.5  237647.25  1490400.0  \neducation-num       10.0      12.00       16.0  \ncapital-gain         0.0       0.00    99999.0  \ncapital-loss         0.0       0.00     4356.0  \nhours-per-week      40.0      45.00       99.0  ",
      "text/html": "<div>\n<style scoped>\n    .dataframe tbody tr th:only-of-type {\n        vertical-align: middle;\n    }\n\n    .dataframe tbody tr th {\n        vertical-align: top;\n    }\n\n    .dataframe thead th {\n        text-align: right;\n    }\n</style>\n<table border=\"1\" class=\"dataframe\">\n  <thead>\n    <tr style=\"text-align: right;\">\n      <th></th>\n      <th>count</th>\n      <th>mean</th>\n      <th>std</th>\n      <th>min</th>\n      <th>25%</th>\n      <th>50%</th>\n      <th>75%</th>\n      <th>max</th>\n    </tr>\n  </thead>\n  <tbody>\n    <tr>\n      <th>age</th>\n      <td>48840.0</td>\n      <td>38.643857</td>\n      <td>13.710652</td>\n      <td>17.0</td>\n      <td>28.0</td>\n      <td>37.0</td>\n      <td>48.00</td>\n      <td>90.0</td>\n    </tr>\n    <tr>\n      <th>fnlwgt</th>\n      <td>48840.0</td>\n      <td>189665.670434</td>\n      <td>105604.834700</td>\n      <td>12285.0</td>\n      <td>117553.5</td>\n      <td>178144.5</td>\n      <td>237647.25</td>\n      <td>1490400.0</td>\n    </tr>\n    <tr>\n      <th>education-num</th>\n      <td>48840.0</td>\n      <td>10.078092</td>\n      <td>2.570954</td>\n      <td>1.0</td>\n      <td>9.0</td>\n      <td>10.0</td>\n      <td>12.00</td>\n      <td>16.0</td>\n    </tr>\n    <tr>\n      <th>capital-gain</th>\n      <td>48840.0</td>\n      <td>1079.067301</td>\n      <td>7452.168393</td>\n      <td>0.0</td>\n      <td>0.0</td>\n      <td>0.0</td>\n      <td>0.00</td>\n      <td>99999.0</td>\n    </tr>\n    <tr>\n      <th>capital-loss</th>\n      <td>48840.0</td>\n      <td>87.505897</td>\n      <td>403.012415</td>\n      <td>0.0</td>\n      <td>0.0</td>\n      <td>0.0</td>\n      <td>0.00</td>\n      <td>4356.0</td>\n    </tr>\n    <tr>\n      <th>hours-per-week</th>\n      <td>48840.0</td>\n      <td>40.422400</td>\n      <td>12.391697</td>\n      <td>1.0</td>\n      <td>40.0</td>\n      <td>40.0</td>\n      <td>45.00</td>\n      <td>99.0</td>\n    </tr>\n  </tbody>\n</table>\n</div>"
     },
     "execution_count": 997,
     "metadata": {},
     "output_type": "execute_result"
    }
   ],
   "source": [
    "combined_data.describe().T #the T switches the rows and columns"
   ],
   "metadata": {
    "collapsed": false,
    "ExecuteTime": {
     "end_time": "2024-03-29T23:21:12.464323800Z",
     "start_time": "2024-03-29T23:21:12.199627800Z"
    }
   },
   "id": "2bb39dd8efe2c8d9"
  },
  {
   "cell_type": "code",
   "execution_count": 998,
   "outputs": [
    {
     "data": {
      "text/plain": "income\n<=50k     24719\n<=50k.    12434\n>50k       7841\n>50k.      3846\nName: count, dtype: int64"
     },
     "execution_count": 998,
     "metadata": {},
     "output_type": "execute_result"
    }
   ],
   "source": [
    "combined_data['income'].value_counts()"
   ],
   "metadata": {
    "collapsed": false,
    "ExecuteTime": {
     "end_time": "2024-03-29T23:21:12.464323800Z",
     "start_time": "2024-03-29T23:21:12.239025700Z"
    }
   },
   "id": "cd4c0debe3dea5a3"
  },
  {
   "cell_type": "code",
   "execution_count": 999,
   "outputs": [
    {
     "data": {
      "text/plain": "income\n<=50k    37153\n>50k     11687\nName: count, dtype: int64"
     },
     "execution_count": 999,
     "metadata": {},
     "output_type": "execute_result"
    }
   ],
   "source": [
    "#The income column has datapoints with '.'\n",
    "combined_data['income'] = combined_data['income'].replace('<=50k.','<=50k')\n",
    "combined_data['income'] = combined_data['income'].replace('>50k.','>50k')\n",
    "combined_data['income'].value_counts()"
   ],
   "metadata": {
    "collapsed": false,
    "ExecuteTime": {
     "end_time": "2024-03-29T23:21:12.464323800Z",
     "start_time": "2024-03-29T23:21:12.250430900Z"
    }
   },
   "id": "122cdc8aa3eabd25"
  },
  {
   "cell_type": "code",
   "execution_count": 1000,
   "outputs": [
    {
     "data": {
      "text/plain": "array(['self-emp-not-inc', 'private', 'state-gov', 'federal-gov',\n       'local-gov', '?', 'self-emp-inc', 'without-pay', 'never-worked'],\n      dtype=object)"
     },
     "execution_count": 1000,
     "metadata": {},
     "output_type": "execute_result"
    }
   ],
   "source": [
    "combined_data['workclass'].unique()"
   ],
   "metadata": {
    "collapsed": false,
    "ExecuteTime": {
     "end_time": "2024-03-29T23:21:12.464323800Z",
     "start_time": "2024-03-29T23:21:12.276725400Z"
    }
   },
   "id": "ba9f139e33b3550e"
  },
  {
   "cell_type": "code",
   "execution_count": 1001,
   "outputs": [
    {
     "data": {
      "text/plain": "race\nwhite                 41761\nblack                  4684\nasian-pac-islander     1519\namer-indian-eskimo      470\nother                   406\nName: count, dtype: int64"
     },
     "execution_count": 1001,
     "metadata": {},
     "output_type": "execute_result"
    }
   ],
   "source": [
    "combined_data['race'].value_counts()"
   ],
   "metadata": {
    "collapsed": false,
    "ExecuteTime": {
     "end_time": "2024-03-29T23:21:12.464323800Z",
     "start_time": "2024-03-29T23:21:12.287529400Z"
    }
   },
   "id": "6d336f208d24d8fb"
  },
  {
   "cell_type": "code",
   "execution_count": 1002,
   "outputs": [
    {
     "data": {
      "text/plain": "sex\nmale      32648\nfemale    16192\nName: count, dtype: int64"
     },
     "execution_count": 1002,
     "metadata": {},
     "output_type": "execute_result"
    }
   ],
   "source": [
    "combined_data['sex'].value_counts()"
   ],
   "metadata": {
    "collapsed": false,
    "ExecuteTime": {
     "end_time": "2024-03-29T23:21:12.464323800Z",
     "start_time": "2024-03-29T23:21:12.301832600Z"
    }
   },
   "id": "c5b0d62d06988c13"
  },
  {
   "cell_type": "code",
   "execution_count": 1003,
   "outputs": [
    {
     "data": {
      "text/plain": "occupation\nprof-specialty       6172\ncraft-repair         6112\nexec-managerial      6086\nadm-clerical         5610\nsales                5504\nother-service        4923\nmachine-op-inspct    3021\n?                    2809\ntransport-moving     2355\nhandlers-cleaners    2072\nfarming-fishing      1490\ntech-support         1446\nprotective-serv       983\npriv-house-serv       242\narmed-forces           15\nName: count, dtype: int64"
     },
     "execution_count": 1003,
     "metadata": {},
     "output_type": "execute_result"
    }
   ],
   "source": [
    "combined_data['occupation'].value_counts()"
   ],
   "metadata": {
    "collapsed": false,
    "ExecuteTime": {
     "end_time": "2024-03-29T23:21:12.464323800Z",
     "start_time": "2024-03-29T23:21:12.318731800Z"
    }
   },
   "id": "cf3c0746ed22f34c"
  },
  {
   "cell_type": "code",
   "execution_count": 1004,
   "outputs": [
    {
     "data": {
      "text/plain": "marital-status\nmarried-civ-spouse       22379\nnever-married            16115\ndivorced                  6633\nseparated                 1530\nwidowed                   1518\nmarried-spouse-absent      628\nmarried-af-spouse           37\nName: count, dtype: int64"
     },
     "execution_count": 1004,
     "metadata": {},
     "output_type": "execute_result"
    }
   ],
   "source": [
    "combined_data['marital-status'].value_counts()"
   ],
   "metadata": {
    "collapsed": false,
    "ExecuteTime": {
     "end_time": "2024-03-29T23:21:12.464323800Z",
     "start_time": "2024-03-29T23:21:12.334469Z"
    }
   },
   "id": "780704508f06fabe"
  },
  {
   "cell_type": "code",
   "execution_count": 1005,
   "outputs": [
    {
     "data": {
      "text/plain": "native-country\nunited-states                 43830\nmexico                          951\n?                               857\nphilippines                     295\ngermany                         206\npuerto-rico                     184\ncanada                          182\nel-salvador                     155\nindia                           151\ncuba                            138\nengland                         127\nchina                           122\nsouth                           115\njamaica                         106\nitaly                           105\ndominican-republic              103\njapan                            92\nguatemala                        88\npoland                           87\nvietnam                          86\ncolumbia                         85\nhaiti                            75\nportugal                         67\ntaiwan                           65\niran                             59\ngreece                           49\nnicaragua                        49\nperu                             46\necuador                          45\nfrance                           38\nireland                          37\nhong                             30\nthailand                         30\ncambodia                         28\ntrinadad&tobago                  27\nlaos                             23\nyugoslavia                       23\noutlying-us(guam-usvi-etc)       23\nscotland                         21\nhonduras                         20\nhungary                          19\nholand-netherlands                1\nName: count, dtype: int64"
     },
     "execution_count": 1005,
     "metadata": {},
     "output_type": "execute_result"
    }
   ],
   "source": [
    "combined_data['native-country'].value_counts()"
   ],
   "metadata": {
    "collapsed": false,
    "ExecuteTime": {
     "end_time": "2024-03-29T23:21:12.464323800Z",
     "start_time": "2024-03-29T23:21:12.350528200Z"
    }
   },
   "id": "a97e548213b4af78"
  },
  {
   "cell_type": "markdown",
   "source": [
    "**<big>Handling Missing Values</big>**\n",
    "\n",
    "This dataset has missing values represented as '?'. Initially, all the columns with these missing values were found. These values were replaced with NaN using numpy to make it easy to handle them. The missing native country values were imputed based on the mode of the features race and age. The missing values in occupation and workclass were their own value known  as 'unknown' because there could be a relationship between missing values and the income level.  "
   ],
   "metadata": {
    "collapsed": false
   },
   "id": "7d7ee1cdf4724963"
  },
  {
   "cell_type": "code",
   "execution_count": 1006,
   "outputs": [
    {
     "data": {
      "text/plain": "6465"
     },
     "execution_count": 1006,
     "metadata": {},
     "output_type": "execute_result"
    }
   ],
   "source": [
    "(combined_data == '?').sum().sum() # gives the total number of missing values"
   ],
   "metadata": {
    "collapsed": false,
    "ExecuteTime": {
     "end_time": "2024-03-29T23:21:12.464323800Z",
     "start_time": "2024-03-29T23:21:12.366432Z"
    }
   },
   "id": "6d9ccb30dcae7773"
  },
  {
   "cell_type": "code",
   "execution_count": 1007,
   "outputs": [
    {
     "name": "stdout",
     "output_type": "stream",
     "text": [
      "workclass has 2799 missing values\n",
      "occupation has 2809 missing values\n",
      "native-country has 857 missing values\n"
     ]
    }
   ],
   "source": [
    "#Goes through each column and gives the column name along with the number of missing values\n",
    "for i in combined_data.columns:\n",
    "    count = (combined_data[i]=='?').sum()\n",
    "    if count > 0:\n",
    "        print(f\"{i} has {count} missing values\")"
   ],
   "metadata": {
    "collapsed": false,
    "ExecuteTime": {
     "end_time": "2024-03-29T23:21:12.464323800Z",
     "start_time": "2024-03-29T23:21:12.404105600Z"
    }
   },
   "id": "574c3cc0f34bdabe"
  },
  {
   "cell_type": "code",
   "execution_count": 1008,
   "outputs": [
    {
     "name": "stdout",
     "output_type": "stream",
     "text": [
      "<class 'pandas.core.frame.DataFrame'>\n",
      "RangeIndex: 48840 entries, 0 to 48839\n",
      "Data columns (total 15 columns):\n",
      " #   Column          Non-Null Count  Dtype \n",
      "---  ------          --------------  ----- \n",
      " 0   age             48840 non-null  int64 \n",
      " 1   workclass       46041 non-null  object\n",
      " 2   fnlwgt          48840 non-null  int64 \n",
      " 3   education       48840 non-null  object\n",
      " 4   education-num   48840 non-null  int64 \n",
      " 5   marital-status  48840 non-null  object\n",
      " 6   occupation      46031 non-null  object\n",
      " 7   relationship    48840 non-null  object\n",
      " 8   race            48840 non-null  object\n",
      " 9   sex             48840 non-null  object\n",
      " 10  capital-gain    48840 non-null  int64 \n",
      " 11  capital-loss    48840 non-null  int64 \n",
      " 12  hours-per-week  48840 non-null  int64 \n",
      " 13  native-country  47983 non-null  object\n",
      " 14  income          48840 non-null  object\n",
      "dtypes: int64(6), object(9)\n",
      "memory usage: 5.6+ MB\n"
     ]
    }
   ],
   "source": [
    "#Replacing the '?' with null for easy handling of missing values\n",
    "import numpy as np\n",
    "\n",
    "combined_data.replace('?',np.NaN, inplace=True)\n",
    "combined_data.info()"
   ],
   "metadata": {
    "collapsed": false,
    "ExecuteTime": {
     "end_time": "2024-03-29T23:21:12.871897900Z",
     "start_time": "2024-03-29T23:21:12.448694300Z"
    }
   },
   "id": "bc57c2a4f9f4872a"
  },
  {
   "cell_type": "code",
   "execution_count": 1009,
   "outputs": [
    {
     "data": {
      "text/plain": "2799"
     },
     "execution_count": 1009,
     "metadata": {},
     "output_type": "execute_result"
    }
   ],
   "source": [
    "((combined_data['workclass'].isna()) & (combined_data['occupation'].isna())).sum()"
   ],
   "metadata": {
    "collapsed": false,
    "ExecuteTime": {
     "end_time": "2024-03-29T23:21:12.871897900Z",
     "start_time": "2024-03-29T23:21:12.512717Z"
    }
   },
   "id": "d4baeba17f1cd2f2"
  },
  {
   "cell_type": "code",
   "execution_count": 1010,
   "outputs": [
    {
     "data": {
      "text/plain": "10"
     },
     "execution_count": 1010,
     "metadata": {},
     "output_type": "execute_result"
    }
   ],
   "source": [
    "((combined_data['workclass'].notna()) & (combined_data['occupation'].isna())).sum()"
   ],
   "metadata": {
    "collapsed": false,
    "ExecuteTime": {
     "end_time": "2024-03-29T23:21:12.871897900Z",
     "start_time": "2024-03-29T23:21:12.526906700Z"
    }
   },
   "id": "3048734045203137"
  },
  {
   "cell_type": "code",
   "execution_count": 1011,
   "outputs": [
    {
     "name": "stdout",
     "output_type": "stream",
     "text": [
      "<class 'pandas.core.frame.DataFrame'>\n",
      "Index: 48830 entries, 0 to 48839\n",
      "Data columns (total 15 columns):\n",
      " #   Column          Non-Null Count  Dtype \n",
      "---  ------          --------------  ----- \n",
      " 0   age             48830 non-null  int64 \n",
      " 1   workclass       46031 non-null  object\n",
      " 2   fnlwgt          48830 non-null  int64 \n",
      " 3   education       48830 non-null  object\n",
      " 4   education-num   48830 non-null  int64 \n",
      " 5   marital-status  48830 non-null  object\n",
      " 6   occupation      46031 non-null  object\n",
      " 7   relationship    48830 non-null  object\n",
      " 8   race            48830 non-null  object\n",
      " 9   sex             48830 non-null  object\n",
      " 10  capital-gain    48830 non-null  int64 \n",
      " 11  capital-loss    48830 non-null  int64 \n",
      " 12  hours-per-week  48830 non-null  int64 \n",
      " 13  native-country  47973 non-null  object\n",
      " 14  income          48830 non-null  object\n",
      "dtypes: int64(6), object(9)\n",
      "memory usage: 6.0+ MB\n"
     ]
    }
   ],
   "source": [
    "combined_data = combined_data.drop(combined_data[(combined_data['workclass'].notna()) & (combined_data['occupation'].isna())].index)\n",
    "combined_data.reset_index(drop=True)\n",
    "combined_data.info()\n",
    "\n",
    "#I could do conditional imputation and predict the missing occupation based on workclass but it is only 10 rows of data which is about 0.02% of the data. The rest where occupation and workclass is NaN , it is good to leave them in a category called unknown as that could have some pattern. e.g May be  people with unknown jobs are likely to get less than 50k."
   ],
   "metadata": {
    "collapsed": false,
    "ExecuteTime": {
     "end_time": "2024-03-29T23:21:12.871897900Z",
     "start_time": "2024-03-29T23:21:12.542857800Z"
    }
   },
   "id": "8c1943502c2e8981"
  },
  {
   "cell_type": "code",
   "execution_count": 1012,
   "outputs": [
    {
     "name": "stdout",
     "output_type": "stream",
     "text": [
      "<class 'pandas.core.frame.DataFrame'>\n",
      "Index: 48830 entries, 0 to 48839\n",
      "Data columns (total 15 columns):\n",
      " #   Column          Non-Null Count  Dtype \n",
      "---  ------          --------------  ----- \n",
      " 0   age             48830 non-null  int64 \n",
      " 1   workclass       48830 non-null  object\n",
      " 2   fnlwgt          48830 non-null  int64 \n",
      " 3   education       48830 non-null  object\n",
      " 4   education-num   48830 non-null  int64 \n",
      " 5   marital-status  48830 non-null  object\n",
      " 6   occupation      48830 non-null  object\n",
      " 7   relationship    48830 non-null  object\n",
      " 8   race            48830 non-null  object\n",
      " 9   sex             48830 non-null  object\n",
      " 10  capital-gain    48830 non-null  int64 \n",
      " 11  capital-loss    48830 non-null  int64 \n",
      " 12  hours-per-week  48830 non-null  int64 \n",
      " 13  native-country  47973 non-null  object\n",
      " 14  income          48830 non-null  object\n",
      "dtypes: int64(6), object(9)\n",
      "memory usage: 6.0+ MB\n"
     ]
    }
   ],
   "source": [
    "#all the rows where workclass and occupation are null gets replaced with unknown, the info confirms that they both go missin at the same time and they are related. \n",
    "combined_data.loc[(combined_data['workclass'].isna()) & (combined_data['occupation'].isna()), ['workclass', 'occupation']] = 'unknown'\n",
    "combined_data.info()"
   ],
   "metadata": {
    "collapsed": false,
    "ExecuteTime": {
     "end_time": "2024-03-29T23:21:12.903157800Z",
     "start_time": "2024-03-29T23:21:12.612841600Z"
    }
   },
   "id": "be74d4281a0ca240"
  },
  {
   "cell_type": "code",
   "execution_count": 1013,
   "outputs": [
    {
     "data": {
      "text/plain": "2799"
     },
     "execution_count": 1013,
     "metadata": {},
     "output_type": "execute_result"
    }
   ],
   "source": [
    "(combined_data['workclass']=='unknown').sum()"
   ],
   "metadata": {
    "collapsed": false,
    "ExecuteTime": {
     "end_time": "2024-03-29T23:21:12.996939500Z",
     "start_time": "2024-03-29T23:21:12.652962500Z"
    }
   },
   "id": "98d2b12fa7ce65ef"
  },
  {
   "cell_type": "code",
   "execution_count": 1014,
   "outputs": [
    {
     "data": {
      "text/plain": "2799"
     },
     "execution_count": 1014,
     "metadata": {},
     "output_type": "execute_result"
    }
   ],
   "source": [
    "(combined_data['occupation']=='unknown').sum()"
   ],
   "metadata": {
    "collapsed": false,
    "ExecuteTime": {
     "end_time": "2024-03-29T23:21:13.043826200Z",
     "start_time": "2024-03-29T23:21:12.668687800Z"
    }
   },
   "id": "767d5d573dde9c08"
  },
  {
   "cell_type": "code",
   "execution_count": 1015,
   "outputs": [
    {
     "data": {
      "text/plain": "native-country\nunited-states                 43820\nmexico                          951\nphilippines                     295\ngermany                         206\npuerto-rico                     184\ncanada                          182\nel-salvador                     155\nindia                           151\ncuba                            138\nengland                         127\nchina                           122\nsouth                           115\njamaica                         106\nitaly                           105\ndominican-republic              103\njapan                            92\nguatemala                        88\npoland                           87\nvietnam                          86\ncolumbia                         85\nhaiti                            75\nportugal                         67\ntaiwan                           65\niran                             59\ngreece                           49\nnicaragua                        49\nperu                             46\necuador                          45\nfrance                           38\nireland                          37\nhong                             30\nthailand                         30\ncambodia                         28\ntrinadad&tobago                  27\nlaos                             23\nyugoslavia                       23\noutlying-us(guam-usvi-etc)       23\nscotland                         21\nhonduras                         20\nhungary                          19\nholand-netherlands                1\nName: count, dtype: int64"
     },
     "execution_count": 1015,
     "metadata": {},
     "output_type": "execute_result"
    }
   ],
   "source": [
    "combined_data['native-country'].value_counts() # taking a look at the native country values before imputation"
   ],
   "metadata": {
    "collapsed": false,
    "ExecuteTime": {
     "end_time": "2024-03-29T23:21:13.121976600Z",
     "start_time": "2024-03-29T23:21:12.677118500Z"
    }
   },
   "id": "ffcbb878f1247c27"
  },
  {
   "cell_type": "code",
   "execution_count": 1016,
   "outputs": [],
   "source": [
    "grouped_data = combined_data.groupby(['race', 'age'])\n",
    "\n",
    "# Iterate over groups and impute missing values in 'native-country' column\n",
    "for group_name, group_data in grouped_data:\n",
    "    # Calculate mode of 'native-country' within the group\n",
    "    mode_native_country = group_data['native-country'].mode().iloc[0]\n",
    "    # Fill missing values with mode of the group\n",
    "    combined_data.loc[group_data.index, 'native-country'] = combined_data.loc[group_data.index, 'native-country'].fillna(mode_native_country)"
   ],
   "metadata": {
    "collapsed": false,
    "ExecuteTime": {
     "end_time": "2024-03-29T23:21:13.756571400Z",
     "start_time": "2024-03-29T23:21:12.692205600Z"
    }
   },
   "id": "e8aa772dffbb4f7e"
  },
  {
   "cell_type": "code",
   "execution_count": 1017,
   "outputs": [
    {
     "data": {
      "text/plain": "native-country\nunited-states                 44640\nmexico                          953\nphilippines                     320\ngermany                         206\npuerto-rico                     185\ncanada                          182\nel-salvador                     155\nindia                           154\ncuba                            138\nengland                         127\nchina                           127\nsouth                           115\njamaica                         106\nitaly                           105\ndominican-republic              104\njapan                            92\nguatemala                        88\npoland                           87\nvietnam                          86\ncolumbia                         85\nhaiti                            75\nportugal                         67\ntaiwan                           65\niran                             59\ngreece                           49\nnicaragua                        49\nperu                             46\necuador                          45\nfrance                           38\nireland                          37\nthailand                         30\nhong                             30\ncambodia                         28\ntrinadad&tobago                  27\nlaos                             23\noutlying-us(guam-usvi-etc)       23\nyugoslavia                       23\nscotland                         21\nhonduras                         20\nhungary                          19\nholand-netherlands                1\nName: count, dtype: int64"
     },
     "execution_count": 1017,
     "metadata": {},
     "output_type": "execute_result"
    }
   ],
   "source": [
    "combined_data['native-country'].value_counts() # checking the native country values before imputation"
   ],
   "metadata": {
    "collapsed": false,
    "ExecuteTime": {
     "end_time": "2024-03-29T23:21:13.772202800Z",
     "start_time": "2024-03-29T23:21:13.625888300Z"
    }
   },
   "id": "fa26ab6082857af2"
  },
  {
   "cell_type": "code",
   "execution_count": 1018,
   "outputs": [
    {
     "name": "stdout",
     "output_type": "stream",
     "text": [
      "<class 'pandas.core.frame.DataFrame'>\n",
      "Index: 48830 entries, 0 to 48839\n",
      "Data columns (total 15 columns):\n",
      " #   Column          Non-Null Count  Dtype \n",
      "---  ------          --------------  ----- \n",
      " 0   age             48830 non-null  int64 \n",
      " 1   workclass       48830 non-null  object\n",
      " 2   fnlwgt          48830 non-null  int64 \n",
      " 3   education       48830 non-null  object\n",
      " 4   education-num   48830 non-null  int64 \n",
      " 5   marital-status  48830 non-null  object\n",
      " 6   occupation      48830 non-null  object\n",
      " 7   relationship    48830 non-null  object\n",
      " 8   race            48830 non-null  object\n",
      " 9   sex             48830 non-null  object\n",
      " 10  capital-gain    48830 non-null  int64 \n",
      " 11  capital-loss    48830 non-null  int64 \n",
      " 12  hours-per-week  48830 non-null  int64 \n",
      " 13  native-country  48830 non-null  object\n",
      " 14  income          48830 non-null  object\n",
      "dtypes: int64(6), object(9)\n",
      "memory usage: 7.0+ MB\n"
     ]
    }
   ],
   "source": [
    "combined_data.info() #verfiying that there aren't any missing values"
   ],
   "metadata": {
    "collapsed": false,
    "ExecuteTime": {
     "end_time": "2024-03-29T23:21:13.772202800Z",
     "start_time": "2024-03-29T23:21:13.638203300Z"
    }
   },
   "id": "e4802d8d97647ce7"
  },
  {
   "cell_type": "markdown",
   "source": [
    "**<big>Handling Outliers</big>**"
   ],
   "metadata": {
    "collapsed": false
   },
   "id": "870cbb89ab345ab0"
  },
  {
   "cell_type": "code",
   "execution_count": 1019,
   "outputs": [
    {
     "data": {
      "text/plain": "<Figure size 1000x500 with 1 Axes>",
      "image/png": "[encoded data removed]"
     },
     "metadata": {},
     "output_type": "display_data"
    }
   ],
   "source": [
    "#Visualizing the outliers using boxplot\n",
    "import matplotlib.pyplot as plt\n",
    "plt.figure(figsize=(10,5))\n",
    "plt.boxplot(combined_data['age'], vert=False, flierprops=dict(markerfacecolor='Red', marker='o'))\n",
    "plt.xlabel('age')\n",
    "plt.show()"
   ],
   "metadata": {
    "collapsed": false,
    "ExecuteTime": {
     "end_time": "2024-03-29T23:21:13.909716Z",
     "start_time": "2024-03-29T23:21:13.667908200Z"
    }
   },
   "id": "c75f94b1cf88b019"
  },
  {
   "cell_type": "code",
   "execution_count": 1020,
   "outputs": [
    {
     "data": {
      "text/plain": "<Figure size 1000x500 with 1 Axes>",
      "image/png": "[encoded data removed]"
     },
     "metadata": {},
     "output_type": "display_data"
    }
   ],
   "source": [
    "#Visualizing the outliers using boxplot\n",
    "import matplotlib.pyplot as plt\n",
    "plt.figure(figsize=(10,5))\n",
    "plt.boxplot(combined_data['education-num'], vert=False, flierprops=dict(markerfacecolor='Red', marker='o'))\n",
    "plt.xlabel('education-num')\n",
    "plt.show()"
   ],
   "metadata": {
    "collapsed": false,
    "ExecuteTime": {
     "end_time": "2024-03-29T23:21:14.163155200Z",
     "start_time": "2024-03-29T23:21:13.902708600Z"
    }
   },
   "id": "2846bb618dfbb7b6"
  },
  {
   "cell_type": "code",
   "execution_count": 1021,
   "outputs": [
    {
     "data": {
      "text/plain": "<Figure size 1000x500 with 1 Axes>",
      "image/png": "[encoded data removed]"
     },
     "metadata": {},
     "output_type": "display_data"
    }
   ],
   "source": [
    "#Visualizing the outliers using boxplot\n",
    "import matplotlib.pyplot as plt\n",
    "plt.figure(figsize=(10,5))\n",
    "plt.boxplot(combined_data['hours-per-week'], vert=False, flierprops=dict(markerfacecolor='Red', marker='o'))\n",
    "plt.xlabel('hours-per-week')\n",
    "plt.show()"
   ],
   "metadata": {
    "collapsed": false,
    "ExecuteTime": {
     "end_time": "2024-03-29T23:21:14.360922Z",
     "start_time": "2024-03-29T23:21:14.148647800Z"
    }
   },
   "id": "3dc1b3594215c36c"
  },
  {
   "cell_type": "code",
   "execution_count": 1022,
   "outputs": [
    {
     "data": {
      "text/plain": "<Figure size 1000x500 with 1 Axes>",
      "image/png": "[encoded data removed]"
     },
     "metadata": {},
     "output_type": "display_data"
    }
   ],
   "source": [
    "#Visualizing the outliers using boxplot\n",
    "import matplotlib.pyplot as plt\n",
    "plt.figure(figsize=(10,5))\n",
    "plt.boxplot(combined_data['capital-gain'], vert=False, flierprops=dict(markerfacecolor='Red', marker='o'))\n",
    "plt.xlabel('capital-gain')\n",
    "plt.show()\n",
    "#according t the results, value greater than 40,000  were considered to be outliers"
   ],
   "metadata": {
    "collapsed": false,
    "ExecuteTime": {
     "end_time": "2024-03-29T23:21:14.541815800Z",
     "start_time": "2024-03-29T23:21:14.360922Z"
    }
   },
   "id": "d6d6b6166dfad2e4"
  },
  {
   "cell_type": "code",
   "execution_count": 1023,
   "outputs": [
    {
     "data": {
      "text/plain": "<Figure size 1000x500 with 1 Axes>",
      "image/png": "[encoded data removed]"
     },
     "metadata": {},
     "output_type": "display_data"
    }
   ],
   "source": [
    "#Visualizing the outliers using boxplot\n",
    "import matplotlib.pyplot as plt\n",
    "plt.figure(figsize=(10,5))\n",
    "plt.boxplot(combined_data['capital-loss'], vert=False, flierprops=dict(markerfacecolor='Red', marker='o'))\n",
    "plt.xlabel('capital-loss')\n",
    "plt.show()"
   ],
   "metadata": {
    "collapsed": false,
    "ExecuteTime": {
     "end_time": "2024-03-29T23:21:14.690103600Z",
     "start_time": "2024-03-29T23:21:14.541815800Z"
    }
   },
   "id": "9973d80a23377f0f"
  },
  {
   "cell_type": "code",
   "execution_count": 1024,
   "outputs": [
    {
     "data": {
      "text/plain": "247"
     },
     "execution_count": 1024,
     "metadata": {},
     "output_type": "execute_result"
    }
   ],
   "source": [
    "(combined_data['capital-gain']>40000).sum()"
   ],
   "metadata": {
    "collapsed": false,
    "ExecuteTime": {
     "end_time": "2024-03-29T23:21:14.714513200Z",
     "start_time": "2024-03-29T23:21:14.690103600Z"
    }
   },
   "id": "198097717f799244"
  },
  {
   "cell_type": "code",
   "execution_count": 1025,
   "outputs": [],
   "source": [
    "combined_data['capital-gain'] = combined_data['capital-gain'].apply(lambda x: 40000 if x > 40000 else x)"
   ],
   "metadata": {
    "collapsed": false,
    "ExecuteTime": {
     "end_time": "2024-03-29T23:21:14.777434800Z",
     "start_time": "2024-03-29T23:21:14.714513200Z"
    }
   },
   "id": "1bb2c453319bac1e"
  },
  {
   "cell_type": "code",
   "execution_count": 1026,
   "outputs": [
    {
     "data": {
      "text/plain": "<Figure size 1000x500 with 1 Axes>",
      "image/png": "[encoded data removed]"
     },
     "metadata": {},
     "output_type": "display_data"
    }
   ],
   "source": [
    "import matplotlib.pyplot as plt\n",
    "plt.figure(figsize=(10,5))\n",
    "plt.boxplot(combined_data['capital-gain'], vert=False, flierprops=dict(markerfacecolor='Red', marker='o'))\n",
    "plt.xlabel('capital-gain')\n",
    "plt.show()"
   ],
   "metadata": {
    "collapsed": false,
    "ExecuteTime": {
     "end_time": "2024-03-29T23:21:14.952820400Z",
     "start_time": "2024-03-29T23:21:14.738166700Z"
    }
   },
   "id": "f5e1419765138cd"
  },
  {
   "cell_type": "markdown",
   "source": [
    "**<big>Feature Extraction and Encoding</big>**"
   ],
   "metadata": {
    "collapsed": false
   },
   "id": "cac059b0ff662398"
  },
  {
   "cell_type": "code",
   "execution_count": 1027,
   "outputs": [
    {
     "data": {
      "text/plain": "   age         workclass  education-num      marital-status  \\\n0   50  self-emp-not-inc             13  married-civ-spouse   \n1   38           private              9            divorced   \n2   53           private              7  married-civ-spouse   \n3   28           private             13  married-civ-spouse   \n4   37           private             14  married-civ-spouse   \n\n          occupation   relationship   race     sex  capital-gain  \\\n0    exec-managerial        husband  white    male             0   \n1  handlers-cleaners  not-in-family  white    male             0   \n2  handlers-cleaners        husband  black    male             0   \n3     prof-specialty           wife  black  female             0   \n4    exec-managerial           wife  white  female             0   \n\n   capital-loss  hours-per-week native-country income  \n0             0              13  united-states  <=50k  \n1             0              40  united-states  <=50k  \n2             0              40  united-states  <=50k  \n3             0              40           cuba  <=50k  \n4             0              40  united-states  <=50k  ",
      "text/html": "<div>\n<style scoped>\n    .dataframe tbody tr th:only-of-type {\n        vertical-align: middle;\n    }\n\n    .dataframe tbody tr th {\n        vertical-align: top;\n    }\n\n    .dataframe thead th {\n        text-align: right;\n    }\n</style>\n<table border=\"1\" class=\"dataframe\">\n  <thead>\n    <tr style=\"text-align: right;\">\n      <th></th>\n      <th>age</th>\n      <th>workclass</th>\n      <th>education-num</th>\n      <th>marital-status</th>\n      <th>occupation</th>\n      <th>relationship</th>\n      <th>race</th>\n      <th>sex</th>\n      <th>capital-gain</th>\n      <th>capital-loss</th>\n      <th>hours-per-week</th>\n      <th>native-country</th>\n      <th>income</th>\n    </tr>\n  </thead>\n  <tbody>\n    <tr>\n      <th>0</th>\n      <td>50</td>\n      <td>self-emp-not-inc</td>\n      <td>13</td>\n      <td>married-civ-spouse</td>\n      <td>exec-managerial</td>\n      <td>husband</td>\n      <td>white</td>\n      <td>male</td>\n      <td>0</td>\n      <td>0</td>\n      <td>13</td>\n      <td>united-states</td>\n      <td>&lt;=50k</td>\n    </tr>\n    <tr>\n      <th>1</th>\n      <td>38</td>\n      <td>private</td>\n      <td>9</td>\n      <td>divorced</td>\n      <td>handlers-cleaners</td>\n      <td>not-in-family</td>\n      <td>white</td>\n      <td>male</td>\n      <td>0</td>\n      <td>0</td>\n      <td>40</td>\n      <td>united-states</td>\n      <td>&lt;=50k</td>\n    </tr>\n    <tr>\n      <th>2</th>\n      <td>53</td>\n      <td>private</td>\n      <td>7</td>\n      <td>married-civ-spouse</td>\n      <td>handlers-cleaners</td>\n      <td>husband</td>\n      <td>black</td>\n      <td>male</td>\n      <td>0</td>\n      <td>0</td>\n      <td>40</td>\n      <td>united-states</td>\n      <td>&lt;=50k</td>\n    </tr>\n    <tr>\n      <th>3</th>\n      <td>28</td>\n      <td>private</td>\n      <td>13</td>\n      <td>married-civ-spouse</td>\n      <td>prof-specialty</td>\n      <td>wife</td>\n      <td>black</td>\n      <td>female</td>\n      <td>0</td>\n      <td>0</td>\n      <td>40</td>\n      <td>cuba</td>\n      <td>&lt;=50k</td>\n    </tr>\n    <tr>\n      <th>4</th>\n      <td>37</td>\n      <td>private</td>\n      <td>14</td>\n      <td>married-civ-spouse</td>\n      <td>exec-managerial</td>\n      <td>wife</td>\n      <td>white</td>\n      <td>female</td>\n      <td>0</td>\n      <td>0</td>\n      <td>40</td>\n      <td>united-states</td>\n      <td>&lt;=50k</td>\n    </tr>\n  </tbody>\n</table>\n</div>"
     },
     "execution_count": 1027,
     "metadata": {},
     "output_type": "execute_result"
    }
   ],
   "source": [
    "combined_data.drop(columns=['education','fnlwgt'],axis=1, inplace=True) #education number is sorta pointless cause gb doesn't recognize higher or lower scores\n",
    "\n",
    "combined_data.head()"
   ],
   "metadata": {
    "collapsed": false,
    "ExecuteTime": {
     "end_time": "2024-03-29T23:21:15.031427800Z",
     "start_time": "2024-03-29T23:21:14.940807700Z"
    }
   },
   "id": "7d1168670bbd2944"
  },
  {
   "cell_type": "code",
   "execution_count": 1028,
   "outputs": [
    {
     "data": {
      "text/plain": "       age  workclass  education-num  marital-status  occupation  \\\n12867   46          0             10               0           6   \n18459   29          2             10               4           0   \n4838    24          2             11               4          12   \n45682   71          6              9               6          14   \n44074   30          2              9               2           6   \n\n       relationship  race  sex  capital-gain  capital-loss  hours-per-week  \\\n12867             4     4    1             0             0              40   \n18459             1     4    0             0             0              40   \n4838              4     2    0             0             0              40   \n45682             4     4    0          6612             0              42   \n44074             0     4    1             0             0              40   \n\n       native-country  income  \n12867              38       0  \n18459              38       0  \n4838               38       0  \n45682              38       1  \n44074              38       0  ",
      "text/html": "<div>\n<style scoped>\n    .dataframe tbody tr th:only-of-type {\n        vertical-align: middle;\n    }\n\n    .dataframe tbody tr th {\n        vertical-align: top;\n    }\n\n    .dataframe thead th {\n        text-align: right;\n    }\n</style>\n<table border=\"1\" class=\"dataframe\">\n  <thead>\n    <tr style=\"text-align: right;\">\n      <th></th>\n      <th>age</th>\n      <th>workclass</th>\n      <th>education-num</th>\n      <th>marital-status</th>\n      <th>occupation</th>\n      <th>relationship</th>\n      <th>race</th>\n      <th>sex</th>\n      <th>capital-gain</th>\n      <th>capital-loss</th>\n      <th>hours-per-week</th>\n      <th>native-country</th>\n      <th>income</th>\n    </tr>\n  </thead>\n  <tbody>\n    <tr>\n      <th>12867</th>\n      <td>46</td>\n      <td>0</td>\n      <td>10</td>\n      <td>0</td>\n      <td>6</td>\n      <td>4</td>\n      <td>4</td>\n      <td>1</td>\n      <td>0</td>\n      <td>0</td>\n      <td>40</td>\n      <td>38</td>\n      <td>0</td>\n    </tr>\n    <tr>\n      <th>18459</th>\n      <td>29</td>\n      <td>2</td>\n      <td>10</td>\n      <td>4</td>\n      <td>0</td>\n      <td>1</td>\n      <td>4</td>\n      <td>0</td>\n      <td>0</td>\n      <td>0</td>\n      <td>40</td>\n      <td>38</td>\n      <td>0</td>\n    </tr>\n    <tr>\n      <th>4838</th>\n      <td>24</td>\n      <td>2</td>\n      <td>11</td>\n      <td>4</td>\n      <td>12</td>\n      <td>4</td>\n      <td>2</td>\n      <td>0</td>\n      <td>0</td>\n      <td>0</td>\n      <td>40</td>\n      <td>38</td>\n      <td>0</td>\n    </tr>\n    <tr>\n      <th>45682</th>\n      <td>71</td>\n      <td>6</td>\n      <td>9</td>\n      <td>6</td>\n      <td>14</td>\n      <td>4</td>\n      <td>4</td>\n      <td>0</td>\n      <td>6612</td>\n      <td>0</td>\n      <td>42</td>\n      <td>38</td>\n      <td>1</td>\n    </tr>\n    <tr>\n      <th>44074</th>\n      <td>30</td>\n      <td>2</td>\n      <td>9</td>\n      <td>2</td>\n      <td>6</td>\n      <td>0</td>\n      <td>4</td>\n      <td>1</td>\n      <td>0</td>\n      <td>0</td>\n      <td>40</td>\n      <td>38</td>\n      <td>0</td>\n    </tr>\n  </tbody>\n</table>\n</div>"
     },
     "execution_count": 1028,
     "metadata": {},
     "output_type": "execute_result"
    }
   ],
   "source": [
    "from sklearn.preprocessing import LabelEncoder\n",
    "le = LabelEncoder()\n",
    "combined_data['income'] = le.fit_transform(combined_data['income'])\n",
    "combined_data['native-country'] = le.fit_transform(combined_data['native-country'])\n",
    "combined_data['sex'] = le.fit_transform(combined_data['sex'])\n",
    "combined_data['race'] = le.fit_transform(combined_data['race'])\n",
    "combined_data['relationship'] = le.fit_transform(combined_data['relationship'])\n",
    "combined_data['occupation'] = le.fit_transform(combined_data['occupation'])\n",
    "combined_data['marital-status'] = le.fit_transform(combined_data['marital-status'])\n",
    "combined_data['workclass'] = le.fit_transform(combined_data['workclass'])\n",
    "combined_data.sample(5)"
   ],
   "metadata": {
    "collapsed": false,
    "ExecuteTime": {
     "end_time": "2024-03-29T23:21:15.078434Z",
     "start_time": "2024-03-29T23:21:14.984532200Z"
    }
   },
   "id": "c6595276203aab8a"
  },
  {
   "cell_type": "code",
   "execution_count": 1029,
   "outputs": [
    {
     "data": {
      "text/plain": "<Axes: >"
     },
     "execution_count": 1029,
     "metadata": {},
     "output_type": "execute_result"
    },
    {
     "data": {
      "text/plain": "<Figure size 640x480 with 2 Axes>",
      "image/png": "[encoded data removed]"
     },
     "metadata": {},
     "output_type": "display_data"
    }
   ],
   "source": [
    "import seaborn as sns\n",
    "sns.heatmap(combined_data.corr())\n",
    "#the darker colour means higher correlation, therefore there is strong correlation between education-num and income "
   ],
   "metadata": {
    "collapsed": false,
    "ExecuteTime": {
     "end_time": "2024-03-29T23:21:15.800084700Z",
     "start_time": "2024-03-29T23:21:15.064421800Z"
    }
   },
   "id": "b259e4c0dfa8f4a6"
  },
  {
   "cell_type": "code",
   "execution_count": 1030,
   "outputs": [
    {
     "data": {
      "text/plain": "(48830, 13)"
     },
     "execution_count": 1030,
     "metadata": {},
     "output_type": "execute_result"
    }
   ],
   "source": [
    "combined_data.shape"
   ],
   "metadata": {
    "collapsed": false,
    "ExecuteTime": {
     "end_time": "2024-03-29T23:21:15.800084700Z",
     "start_time": "2024-03-29T23:21:15.650451100Z"
    }
   },
   "id": "2995266b0919c313"
  },
  {
   "cell_type": "code",
   "execution_count": 1031,
   "outputs": [],
   "source": [
    "combined_data.to_csv('datasets/pre_processed_data.csv', index=False)"
   ],
   "metadata": {
    "collapsed": false,
    "ExecuteTime": {
     "end_time": "2024-03-29T23:21:16.043058600Z",
     "start_time": "2024-03-29T23:21:15.659529600Z"
    }
   },
   "id": "847bf7d52978931d"
  }
 ],
 "metadata": {
  "kernelspec": {
   "display_name": "Python 3",
   "language": "python",
   "name": "python3"
  },
  "language_info": {
   "codemirror_mode": {
    "name": "ipython",
    "version": 2
   },
   "file_extension": ".py",
   "mimetype": "text/x-python",
   "name": "python",
   "nbconvert_exporter": "python",
   "pygments_lexer": "ipython2",
   "version": "2.7.6"
  }
 },
 "nbformat": 4,
 "nbformat_minor": 5
}
